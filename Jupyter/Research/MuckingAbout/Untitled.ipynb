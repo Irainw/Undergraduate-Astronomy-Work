{
 "cells": [
  {
   "cell_type": "code",
   "execution_count": 2,
   "id": "55b59109-b7cf-4017-aec0-4dfde966f556",
   "metadata": {},
   "outputs": [],
   "source": [
    "import matplotlib.pyplot as plt\n",
    "\n",
    "import numpy as np\n",
    "import astropy as ap\n",
    "import astropy.units as u\n",
    "from astropy.coordinates import SkyCoord\n",
    "from astropy.time import Time\n",
    "import pytz\n",
    "\n",
    "from astroplan.plots import plot_airmass\n",
    "from astroplan import Observer, FixedTarget, time_grid_from_range\n",
    "from astroplan.plots import plot_sky\n",
    "from astroplan import observability_table\n",
    "from astroplan import AltitudeConstraint, MoonSeparationConstraint, SunSeparationConstraint\n",
    "\n",
    "import warnings\n",
    "warnings.filterwarnings(\"ignore\")"
   ]
  },
  {
   "cell_type": "code",
   "execution_count": 6,
   "id": "29c520d3-1412-4b25-8623-eeeec34903bb",
   "metadata": {},
   "outputs": [],
   "source": [
    "Seattle = Observer(longitude = 122.3321 * u.deg,\n",
    "                  latitude = 47.6062 * u.deg,\n",
    "                  timezone = 'Etc/GMT-7',\n",
    "                  name = 'Seattle')"
   ]
  },
  {
   "cell_type": "code",
   "execution_count": 7,
   "id": "f51cb63a-0602-4cae-bdbe-5fa9b0008581",
   "metadata": {},
   "outputs": [],
   "source": [
    "myDate = Time('2023-8-11')\n",
    "noon = Seattle.noon(myDate, which = 'nearest')"
   ]
  },
  {
   "cell_type": "code",
   "execution_count": null,
   "id": "8e9cb4bc-787a-4752-b23a-e72085239af7",
   "metadata": {},
   "outputs": [],
   "source": [
    "seattleTime = Seattle.tonight(noon, horizon = -18 * u.deg)\n"
   ]
  }
 ],
 "metadata": {
  "kernelspec": {
   "display_name": "Python 3 (ipykernel)",
   "language": "python",
   "name": "python3"
  },
  "language_info": {
   "codemirror_mode": {
    "name": "ipython",
    "version": 3
   },
   "file_extension": ".py",
   "mimetype": "text/x-python",
   "name": "python",
   "nbconvert_exporter": "python",
   "pygments_lexer": "ipython3",
   "version": "3.9.13"
  }
 },
 "nbformat": 4,
 "nbformat_minor": 5
}
