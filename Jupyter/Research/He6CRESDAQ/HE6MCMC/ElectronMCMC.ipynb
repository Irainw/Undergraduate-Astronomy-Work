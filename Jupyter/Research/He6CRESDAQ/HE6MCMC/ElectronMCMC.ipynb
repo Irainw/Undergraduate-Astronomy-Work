{
 "cells": [
  {
   "cell_type": "code",
   "execution_count": 2,
   "id": "679e7c6c-0a07-4fe5-9c1e-e0253c592a3e",
   "metadata": {},
   "outputs": [
    {
     "name": "stdout",
     "output_type": "stream",
     "text": [
      "Defaulting to user installation because normal site-packages is not writeable\n",
      "Collecting corner\n",
      "  Using cached corner-2.2.2-py3-none-any.whl (15 kB)\n",
      "Requirement already satisfied: matplotlib>=2.1 in c:\\programdata\\anaconda3\\lib\\site-packages (from corner) (3.5.2)\n",
      "Requirement already satisfied: packaging>=20.0 in c:\\programdata\\anaconda3\\lib\\site-packages (from matplotlib>=2.1->corner) (21.3)\n",
      "Requirement already satisfied: numpy>=1.17 in c:\\programdata\\anaconda3\\lib\\site-packages (from matplotlib>=2.1->corner) (1.21.5)\n",
      "Requirement already satisfied: fonttools>=4.22.0 in c:\\programdata\\anaconda3\\lib\\site-packages (from matplotlib>=2.1->corner) (4.25.0)\n",
      "Requirement already satisfied: pyparsing>=2.2.1 in c:\\programdata\\anaconda3\\lib\\site-packages (from matplotlib>=2.1->corner) (3.0.9)\n",
      "Requirement already satisfied: cycler>=0.10 in c:\\programdata\\anaconda3\\lib\\site-packages (from matplotlib>=2.1->corner) (0.11.0)\n",
      "Requirement already satisfied: kiwisolver>=1.0.1 in c:\\programdata\\anaconda3\\lib\\site-packages (from matplotlib>=2.1->corner) (1.4.2)\n",
      "Requirement already satisfied: python-dateutil>=2.7 in c:\\programdata\\anaconda3\\lib\\site-packages (from matplotlib>=2.1->corner) (2.8.2)\n",
      "Requirement already satisfied: pillow>=6.2.0 in c:\\programdata\\anaconda3\\lib\\site-packages (from matplotlib>=2.1->corner) (9.2.0)\n",
      "Requirement already satisfied: six>=1.5 in c:\\programdata\\anaconda3\\lib\\site-packages (from python-dateutil>=2.7->matplotlib>=2.1->corner) (1.16.0)\n",
      "Installing collected packages: corner\n",
      "Successfully installed corner-2.2.2\n",
      "Defaulting to user installation because normal site-packages is not writeable\n",
      "Requirement already satisfied: emcee in c:\\users\\ian rain-water\\appdata\\roaming\\python\\python39\\site-packages (3.1.4)\n",
      "Requirement already satisfied: numpy in c:\\programdata\\anaconda3\\lib\\site-packages (from emcee) (1.21.5)\n"
     ]
    }
   ],
   "source": [
    "!pip install corner\n",
    "!pip install emcee"
   ]
  },
  {
   "cell_type": "code",
   "execution_count": 3,
   "id": "709ed225-e3f5-4f8b-ae54-8007c131a7c4",
   "metadata": {},
   "outputs": [],
   "source": [
    "from astropy.table import QTable\n",
    "import numpy as np\n",
    "import matplotlib.pyplot as plt\n",
    "#import Pymc3 as pm\n",
    "import emcee\n",
    "import corner"
   ]
  },
  {
   "cell_type": "code",
   "execution_count": 4,
   "id": "b4f5860b-1bc6-44c2-a5c5-e34b24587bda",
   "metadata": {},
   "outputs": [
    {
     "data": {
      "text/html": [
       "<div><i>QTable length=1000</i>\n",
       "<table id=\"table1544883143776\" class=\"table-striped table-bordered table-condensed\">\n",
       "<thead><tr><th>frequency</th><th>magnetic_field</th><th>rho</th><th>total_power</th><th>TE11_power</th></tr></thead>\n",
       "<thead><tr><th>float64</th><th>float64</th><th>float64</th><th>float64</th><th>float64</th></tr></thead>\n",
       "<tr><td>18250388282.41455</td><td>1.5</td><td>0.003174308959632239</td><td>1.730592358404203e-13</td><td>4.778626266672517e-15</td></tr>\n",
       "<tr><td>19016110588.609</td><td>1.5</td><td>0.001497378226406374</td><td>1.312043400277056e-13</td><td>6.815138569049045e-15</td></tr>\n",
       "<tr><td>18691085963.12689</td><td>1.5</td><td>0.001853661096110662</td><td>1.493901330002656e-13</td><td>6.54725721742661e-15</td></tr>\n",
       "<tr><td>18241666439.84137</td><td>1.5</td><td>0.002925370777539223</td><td>1.918128045520965e-13</td><td>5.182243566234435e-15</td></tr>\n",
       "<tr><td>18622645529.34571</td><td>1.5</td><td>0.001675903160541347</td><td>1.40786356568587e-13</td><td>6.79587626729229e-15</td></tr>\n",
       "<tr><td>18681076645.27095</td><td>1.5</td><td>0.001940616901373799</td><td>1.556278712203723e-13</td><td>6.440813627118227e-15</td></tr>\n",
       "<tr><td>18663774385.47527</td><td>1.5</td><td>0.002367502000413435</td><td>1.543733372137705e-13</td><td>5.859651455650469e-15</td></tr>\n",
       "<tr><td>18542300775.15652</td><td>1.5</td><td>0.002336811101068802</td><td>1.491313636557608e-13</td><td>5.956122507485726e-15</td></tr>\n",
       "<tr><td>18790965944.99677</td><td>1.5</td><td>0.002810362427815703</td><td>1.638358722016309e-13</td><td>5.149213271059685e-15</td></tr>\n",
       "<tr><td>18028661391.7332</td><td>1.5</td><td>0.003331027183718402</td><td>1.526505311151353e-13</td><td>4.616217418733216e-15</td></tr>\n",
       "<tr><td>...</td><td>...</td><td>...</td><td>...</td><td>...</td></tr>\n",
       "<tr><td>18662633344.09101</td><td>1.5</td><td>0.002802523695830951</td><td>1.64791832453775e-13</td><td>5.207124292970236e-15</td></tr>\n",
       "<tr><td>18651852126.19398</td><td>1.5</td><td>0.001597807434862571</td><td>1.410465881059535e-13</td><td>6.871703373345436e-15</td></tr>\n",
       "<tr><td>18033925562.54781</td><td>1.5</td><td>0.003024298181117578</td><td>1.938722448008514e-13</td><td>5.116021339000587e-15</td></tr>\n",
       "<tr><td>18404689447.35506</td><td>1.5</td><td>0.002655915503617164</td><td>1.637290946728312e-13</td><td>5.536355059825771e-15</td></tr>\n",
       "<tr><td>19009297301.00155</td><td>1.5</td><td>0.003136269025523672</td><td>1.669112983782561e-13</td><td>4.582175023704059e-15</td></tr>\n",
       "<tr><td>19016490625.67374</td><td>1.5</td><td>0.001250286870913505</td><td>1.341664978323645e-13</td><td>7.056635388595543e-15</td></tr>\n",
       "<tr><td>18405825098.60556</td><td>1.5</td><td>0.001359396511147432</td><td>1.484642074280586e-13</td><td>7.257021111011612e-15</td></tr>\n",
       "<tr><td>18350816529.38107</td><td>1.5</td><td>0.003298336823232685</td><td>1.620894209395571e-13</td><td>4.542112425339046e-15</td></tr>\n",
       "<tr><td>18293036362.57333</td><td>1.5</td><td>0.003347953370292551</td><td>1.433351609355957e-13</td><td>4.484284351398961e-15</td></tr>\n",
       "<tr><td>18029299183.49314</td><td>1.5</td><td>0.003378150190507862</td><td>1.466514628177339e-13</td><td>4.53918651234209e-15</td></tr>\n",
       "</table></div>"
      ],
      "text/plain": [
       "<QTable length=1000>\n",
       "    frequency     magnetic_field ...      total_power            TE11_power     \n",
       "     float64         float64     ...        float64               float64       \n",
       "----------------- -------------- ... --------------------- ---------------------\n",
       "18250388282.41455            1.5 ... 1.730592358404203e-13 4.778626266672517e-15\n",
       "  19016110588.609            1.5 ... 1.312043400277056e-13 6.815138569049045e-15\n",
       "18691085963.12689            1.5 ... 1.493901330002656e-13  6.54725721742661e-15\n",
       "18241666439.84137            1.5 ... 1.918128045520965e-13 5.182243566234435e-15\n",
       "18622645529.34571            1.5 ...  1.40786356568587e-13  6.79587626729229e-15\n",
       "18681076645.27095            1.5 ... 1.556278712203723e-13 6.440813627118227e-15\n",
       "18663774385.47527            1.5 ... 1.543733372137705e-13 5.859651455650469e-15\n",
       "18542300775.15652            1.5 ... 1.491313636557608e-13 5.956122507485726e-15\n",
       "18790965944.99677            1.5 ... 1.638358722016309e-13 5.149213271059685e-15\n",
       " 18028661391.7332            1.5 ... 1.526505311151353e-13 4.616217418733216e-15\n",
       "              ...            ... ...                   ...                   ...\n",
       "18662633344.09101            1.5 ...  1.64791832453775e-13 5.207124292970236e-15\n",
       "18651852126.19398            1.5 ... 1.410465881059535e-13 6.871703373345436e-15\n",
       "18033925562.54781            1.5 ... 1.938722448008514e-13 5.116021339000587e-15\n",
       "18404689447.35506            1.5 ... 1.637290946728312e-13 5.536355059825771e-15\n",
       "19009297301.00155            1.5 ... 1.669112983782561e-13 4.582175023704059e-15\n",
       "19016490625.67374            1.5 ... 1.341664978323645e-13 7.056635388595543e-15\n",
       "18405825098.60556            1.5 ... 1.484642074280586e-13 7.257021111011612e-15\n",
       "18350816529.38107            1.5 ... 1.620894209395571e-13 4.542112425339046e-15\n",
       "18293036362.57333            1.5 ... 1.433351609355957e-13 4.484284351398961e-15\n",
       "18029299183.49314            1.5 ... 1.466514628177339e-13  4.53918651234209e-15"
      ]
     },
     "execution_count": 4,
     "metadata": {},
     "output_type": "execute_result"
    }
   ],
   "source": [
    "data = QTable.read('./eid1/eid1_0.csv', format = 'ascii.csv')\n",
    "data"
   ]
  },
  {
   "cell_type": "code",
   "execution_count": 8,
   "id": "8034024e-2477-475d-ae56-36d466c333b7",
   "metadata": {},
   "outputs": [],
   "source": [
    "def logPrior(theta):\n",
    "    TE11, totalPower, Fc = theta\n",
    "    if (0<inp1<constr1 and 0<inp2<constr2 and 0<inp3<constr3):\n",
    "        return 0.0 \n",
    "    else:\n",
    "        return -np.inf\n",
    "\n",
    "def logLikelihood(theta, data):\n",
    "    inp1, inp2, inp3 = theta\n",
    "    if (0<inp1<constr1 and 0<inp2<constr2 and 0<inp3<constr3):\n",
    "        #MODEL FUNCTION: Function that calculates the theoretical values with inputs 1,2,and 3. Take TE11, TotalPower, and Fc and find Rho\n",
    "        OBSERVED = data['rho']\n",
    "        #ERROR Value: Calculate standard deviation of the error?\n",
    "        #Return -(np.sum((OBSERVED-MODEL)/ERROR)**2) \n",
    "        return  #Return -χ^2 emcee takes exp(-χ^2)\n",
    "    else:\n",
    "        return -np.inf\n",
    "\n",
    "def logPosterior(param, data):\n",
    "    return logPrior(param) + logLikelihood(param, data)"
   ]
  },
  {
   "cell_type": "code",
   "execution_count": 11,
   "id": "1b119130-b74d-4b8a-945e-e05eb9d5f75d",
   "metadata": {},
   "outputs": [
    {
     "ename": "NameError",
     "evalue": "name 'init1' is not defined",
     "output_type": "error",
     "traceback": [
      "\u001b[1;31m---------------------------------------------------------------------------\u001b[0m",
      "\u001b[1;31mNameError\u001b[0m                                 Traceback (most recent call last)",
      "\u001b[1;32m~\\AppData\\Local\\Temp\\ipykernel_15504\\2043885676.py\u001b[0m in \u001b[0;36m<module>\u001b[1;34m\u001b[0m\n\u001b[0;32m      3\u001b[0m \u001b[0mnburn\u001b[0m \u001b[1;33m=\u001b[0m \u001b[1;36m1000\u001b[0m \u001b[1;31m#Burnoff the first 1000 steps to let the chain stabilize\u001b[0m\u001b[1;33m\u001b[0m\u001b[1;33m\u001b[0m\u001b[0m\n\u001b[0;32m      4\u001b[0m \u001b[0mnsteps\u001b[0m \u001b[1;33m=\u001b[0m \u001b[1;36m10000\u001b[0m \u001b[1;31m#Steps the walkers will take in probspace\u001b[0m\u001b[1;33m\u001b[0m\u001b[1;33m\u001b[0m\u001b[0m\n\u001b[1;32m----> 5\u001b[1;33m \u001b[0mtheta\u001b[0m \u001b[1;33m=\u001b[0m \u001b[1;33m[\u001b[0m\u001b[0minit1\u001b[0m\u001b[1;33m,\u001b[0m \u001b[0minit2\u001b[0m\u001b[1;33m,\u001b[0m \u001b[0minit3\u001b[0m\u001b[1;33m]\u001b[0m \u001b[1;31m#initial guesses for paramaters\u001b[0m\u001b[1;33m\u001b[0m\u001b[1;33m\u001b[0m\u001b[0m\n\u001b[0m\u001b[0;32m      6\u001b[0m \u001b[1;33m\u001b[0m\u001b[0m\n\u001b[0;32m      7\u001b[0m \u001b[0minitialize\u001b[0m \u001b[1;33m=\u001b[0m \u001b[0mnp\u001b[0m\u001b[1;33m.\u001b[0m\u001b[0marray\u001b[0m\u001b[1;33m(\u001b[0m\u001b[0mtheta\u001b[0m \u001b[1;33m+\u001b[0m \u001b[1;36m0.01\u001b[0m \u001b[1;33m*\u001b[0m \u001b[0mnp\u001b[0m\u001b[1;33m.\u001b[0m\u001b[0mrandom\u001b[0m\u001b[1;33m.\u001b[0m\u001b[0mrand\u001b[0m\u001b[1;33m(\u001b[0m\u001b[0mnwalkers\u001b[0m\u001b[1;33m,\u001b[0m \u001b[0mndim\u001b[0m\u001b[1;33m)\u001b[0m\u001b[1;33m)\u001b[0m \u001b[1;31m#creates some starting points with random displacement\u001b[0m\u001b[1;33m\u001b[0m\u001b[1;33m\u001b[0m\u001b[0m\n",
      "\u001b[1;31mNameError\u001b[0m: name 'init1' is not defined"
     ]
    }
   ],
   "source": [
    "ndim = 3#number of parameters in the model\n",
    "nwalkers = 20 #Number of walkers\n",
    "nburn = 1000 #Burnoff the first 1000 steps to let the chain stabilize\n",
    "nsteps = 10000 #Steps the walkers will take in probspace\n",
    "theta = [init1, init2, init3] #initial guesses for paramaters\n",
    "\n",
    "initialize = np.array(theta + 0.01 * np.random.rand(nwalkers, ndim)) #creates some starting points with random displacement\n",
    "sampler = emcee.EnsembleSampler(nwalkers, ndim, logPosterior, args=[data]) #create the sampler\n",
    "sampler.run_mcmc(initialize, nSteps, progress=True) #run the sampler at starting position over nsteps displaying progress\n",
    "print('Done :)')"
   ]
  },
  {
   "cell_type": "code",
   "execution_count": 10,
   "id": "fe6eb21a-616b-4620-ba1d-1591a7b3d3d7",
   "metadata": {},
   "outputs": [
    {
     "ename": "NameError",
     "evalue": "name 'sampler' is not defined",
     "output_type": "error",
     "traceback": [
      "\u001b[1;31m---------------------------------------------------------------------------\u001b[0m",
      "\u001b[1;31mNameError\u001b[0m                                 Traceback (most recent call last)",
      "\u001b[1;32m~\\AppData\\Local\\Temp\\ipykernel_15504\\3940177555.py\u001b[0m in \u001b[0;36m<module>\u001b[1;34m\u001b[0m\n\u001b[0;32m      1\u001b[0m \u001b[0mfig\u001b[0m\u001b[1;33m,\u001b[0m \u001b[0maxs\u001b[0m \u001b[1;33m=\u001b[0m \u001b[0mplt\u001b[0m\u001b[1;33m.\u001b[0m\u001b[0msubplots\u001b[0m\u001b[1;33m(\u001b[0m\u001b[1;36m3\u001b[0m\u001b[1;33m,\u001b[0m \u001b[0mfigsize\u001b[0m\u001b[1;33m=\u001b[0m\u001b[1;33m(\u001b[0m\u001b[1;36m10\u001b[0m\u001b[1;33m,\u001b[0m\u001b[1;36m7\u001b[0m\u001b[1;33m)\u001b[0m\u001b[1;33m,\u001b[0m \u001b[0msharex\u001b[0m \u001b[1;33m=\u001b[0m \u001b[1;32mTrue\u001b[0m\u001b[1;33m)\u001b[0m\u001b[1;33m\u001b[0m\u001b[1;33m\u001b[0m\u001b[0m\n\u001b[1;32m----> 2\u001b[1;33m \u001b[0msamples\u001b[0m \u001b[1;33m=\u001b[0m \u001b[0msampler\u001b[0m\u001b[1;33m.\u001b[0m\u001b[0mget_chain\u001b[0m\u001b[1;33m(\u001b[0m\u001b[1;33m)\u001b[0m\u001b[1;33m\u001b[0m\u001b[1;33m\u001b[0m\u001b[0m\n\u001b[0m\u001b[0;32m      3\u001b[0m \u001b[0mlabels\u001b[0m \u001b[1;33m=\u001b[0m \u001b[1;33m[\u001b[0m\u001b[1;34m\"param 1\"\u001b[0m\u001b[1;33m,\u001b[0m \u001b[1;34m\"param 2\"\u001b[0m\u001b[1;33m,\u001b[0m \u001b[1;34m\"param 3\"\u001b[0m\u001b[1;33m]\u001b[0m\u001b[1;33m\u001b[0m\u001b[1;33m\u001b[0m\u001b[0m\n\u001b[0;32m      4\u001b[0m \u001b[1;32mfor\u001b[0m \u001b[0mi\u001b[0m \u001b[1;32min\u001b[0m \u001b[0mrange\u001b[0m\u001b[1;33m(\u001b[0m\u001b[0mndim\u001b[0m\u001b[1;33m)\u001b[0m\u001b[1;33m:\u001b[0m\u001b[1;33m\u001b[0m\u001b[1;33m\u001b[0m\u001b[0m\n\u001b[0;32m      5\u001b[0m     \u001b[0max\u001b[0m \u001b[1;33m=\u001b[0m \u001b[0maxs\u001b[0m\u001b[1;33m[\u001b[0m\u001b[0mi\u001b[0m\u001b[1;33m]\u001b[0m\u001b[1;33m\u001b[0m\u001b[1;33m\u001b[0m\u001b[0m\n",
      "\u001b[1;31mNameError\u001b[0m: name 'sampler' is not defined"
     ]
    },
    {
     "data": {
      "image/png": "[encoded data removed]",
      "text/plain": [
       "<Figure size 1000x700 with 3 Axes>"
      ]
     },
     "metadata": {},
     "output_type": "display_data"
    }
   ],
   "source": [
    "fig, axs = plt.subplots(3, figsize=(10,7), sharex = True)\n",
    "samples = sampler.get_chain()\n",
    "labels = [\"param 1\", \"param 2\", \"param 3\"]\n",
    "for i in range(ndim):\n",
    "    ax = axs[i]\n",
    "    ax.plot(samples[:,:,i], \"k\", alpha = 0.3)\n",
    "    ax.set_xlim(0, len(samples))\n",
    "    ax.set_ylabel(labels[i])\n",
    "    ax.yaxis.set_label_coords(-0.1,0.5)\n",
    "    \n",
    "axs[-1].set_xlabel('Step Number')"
   ]
  },
  {
   "cell_type": "code",
   "execution_count": null,
   "id": "d73e7b8e-27e6-4fcf-897f-31532f6d5c13",
   "metadata": {},
   "outputs": [],
   "source": []
  }
 ],
 "metadata": {
  "kernelspec": {
   "display_name": "Python 3 (ipykernel)",
   "language": "python",
   "name": "python3"
  },
  "language_info": {
   "codemirror_mode": {
    "name": "ipython",
    "version": 3
   },
   "file_extension": ".py",
   "mimetype": "text/x-python",
   "name": "python",
   "nbconvert_exporter": "python",
   "pygments_lexer": "ipython3",
   "version": "3.9.13"
  }
 },
 "nbformat": 4,
 "nbformat_minor": 5
}
