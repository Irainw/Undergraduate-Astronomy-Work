{
 "cells": [
  {
   "cell_type": "code",
   "execution_count": 1,
   "id": "79a9a354-bd8e-455c-9e47-9b28001e7136",
   "metadata": {},
   "outputs": [],
   "source": [
    "import numpy as np\n",
    "import sys\n",
    "import psycopg2\n",
    "from tftb.generators import amgauss, fmlin\n",
    "import matplotlib.pyplot as plt\n",
    "import numpy as np\n",
    "import scipy.signal as sig\n",
    "from tftb.processing import WignerVilleDistribution"
   ]
  },
  {
   "cell_type": "code",
   "execution_count": 2,
   "id": "c56a1165-4112-4327-99e8-3f9cff38e2af",
   "metadata": {},
   "outputs": [],
   "source": [
    "cmd = r'\"C:\\Users\\Ian Rain-Water\\Jupyter\\He6CRESDAQ\\He6DAQ-develop\"'\n",
    "sys.path.append(cmd)"
   ]
  },
  {
   "cell_type": "code",
   "execution_count": 3,
   "id": "473df66d-a5fa-4fb4-95d4-ca644af828f4",
   "metadata": {},
   "outputs": [],
   "source": [
    "from Control_Logic import Data_Quality_Control as DQC\n",
    "from Control_Logic import PostgreSQL_Interface as he6db"
   ]
  },
  {
   "cell_type": "code",
   "execution_count": 22,
   "id": "596dd65e-fb02-4cd2-8548-8b15f99f530a",
   "metadata": {},
   "outputs": [],
   "source": [
    "specCMD = 'Freq_data_2022-05-13-01-05-42.spec'\n",
    "specArray = DQC.spec_to_array(specCMD, 4096, 1000)\n",
    "smallSpecArray = specArray[3090]\n",
    "#print(np.shape(smallSpecArray))\n",
    "#print(specArray[4095])"
   ]
  },
  {
   "cell_type": "code",
   "execution_count": 5,
   "id": "b1ab43ff-c84f-4178-bf10-dac88e64b263",
   "metadata": {},
   "outputs": [],
   "source": [
    "plt.figure()\n",
    "plt.plot(smallSpecArray)\n",
    "plt.show();"
   ]
  },
  {
   "cell_type": "code",
   "execution_count": 23,
   "id": "8c65b7c2-b73c-47fb-8175-55abb4a903d6",
   "metadata": {},
   "outputs": [
    {
     "name": "stdout",
     "output_type": "stream",
     "text": [
      "(129, 9)\n"
     ]
    }
   ],
   "source": [
    "f_stft, t_stft, Zxx = sig.stft(smallSpecArray)\n",
    "Zxx = np.fft.fftshift(Zxx, axes = 0)\n",
    "f_stft = np.fft.fftshift(f_stft)\n",
    "wvd = WignerVilleDistribution(smallSpecArray)\n",
    "tfr_wvd, t_wvd, f_wvd = wvd.run()\n",
    "#f_wvd is the normalized frequencies\n",
    "print(np.shape(Zxx))"
   ]
  },
  {
   "cell_type": "code",
   "execution_count": 24,
   "id": "8c00197a-db26-4c28-b316-e4c89b07fe4c",
   "metadata": {},
   "outputs": [],
   "source": [
    "fig, axx = plt.subplots(2,1)\n",
    "df1 = f_stft[1] - f_stft[0] #freq step\n",
    "im = axx[0].imshow(np.real(Zxx[1:2] * np.conj(Zxx)), aspect = 'auto',\n",
    "                  interpolation = None, origin = 'lower')\n",
    "axx[0].set_ylabel('frequency [Hz]')\n",
    "plt.colorbar(im, ax=axx[0])\n",
    "axx[0].set_title('spectrogram')\n",
    "#plots the spectrogram in theory, but runs into issues because the stft is 3D not sure if I can ignore any dimension in it\n",
    "\n",
    "f_wvd = np.fft.fftshift(np.fft.fftfreq(tfr_wvd.shape[0]))\n",
    "df_wvd = f_wvd[1]-f_wvd[0] #frequency change in the WVT\n",
    "im = axx[1].imshow(np.fft.fftshift(tfr_wvd, axes = 0), aspect = 'auto', origin = 'lower')\n",
    "axx[1].set_xlabel('time [s]')\n",
    "axx[1].set_ylabel('frequency [Hz]')\n",
    "plt.colorbar(im, ax=axx[1])\n",
    "axx[1].set_title('Wigner-Ville Transform')\n",
    "plt.show()"
   ]
  },
  {
   "cell_type": "code",
   "execution_count": null,
   "id": "ed0c3821-110c-4183-b09b-47756fcfa302",
   "metadata": {},
   "outputs": [],
   "source": []
  }
 ],
 "metadata": {
  "kernelspec": {
   "display_name": "Python 3 (ipykernel)",
   "language": "python",
   "name": "python3"
  },
  "language_info": {
   "codemirror_mode": {
    "name": "ipython",
    "version": 3
   },
   "file_extension": ".py",
   "mimetype": "text/x-python",
   "name": "python",
   "nbconvert_exporter": "python",
   "pygments_lexer": "ipython3",
   "version": "3.9.13"
  }
 },
 "nbformat": 4,
 "nbformat_minor": 5
}
