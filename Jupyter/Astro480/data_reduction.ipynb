{
 "cells": [
  {
   "cell_type": "code",
   "execution_count": null,
   "metadata": {},
   "outputs": [],
   "source": [
    "\n",
    "from photutils.aperture import EllipticalAperture, EllipticalAnnulus, CircularAperture, CircularAnnulus, aperture_photometry \n",
    "from photutils.detection import DAOStarFinder\n",
    "from matplotlib.colors import LogNorm\n",
    "import matplotlib.pyplot as plt\n",
    "from astropy.io import fits\n",
    "from astropy.table import Table\n",
    "from scipy.stats import iqr\n",
    "import numpy as np\n",
    "import os\n",
    "\n",
    "# PSF Fitting\n",
    "from astropy.modeling.fitting import LevMarLSQFitter\n",
    "from astropy.stats import gaussian_sigma_to_fwhm\n",
    "from photutils.background import MADStdBackgroundRMS, MMMBackground\n",
    "from photutils.detection import IRAFStarFinder\n",
    "from photutils.psf import DAOGroup, IntegratedGaussianPRF, BasicPSFPhotometry\n"
   ]
  },
  {
   "cell_type": "markdown",
   "metadata": {},
   "source": [
    "# Settings\n",
    "Change these to change which image is being reduced and analysed."
   ]
  },
  {
   "cell_type": "code",
   "execution_count": null,
   "metadata": {},
   "outputs": [],
   "source": [
    "# Image Conditions \n",
    "data_path =  os.path.join(\"data\", \"480\") # Where images are stored\n",
    "image_path = os.path.join(\"m81\", \"M81_Halpha_20230419_055757.fits\")\n",
    "#image_path = os.path.join(\"m82\", \"M82_Halpha_20230419_050034.fits\")\n",
    "#image_path = os.path.join(\"ngc2976\", \"NGC 2976_Halpha_20230419_040046.fits\")\n",
    "filter = \"halpha\" # The filter used (must match the flat folder)\n",
    "wavelength = 656.46E-9 # Wavelength of the filter (in meters)\n",
    "exposure = 1800\n",
    "\n",
    "# Target object info\n",
    "distance = 3.30 * 3.0856776E+22 # Distance to the target (in meters)\n",
    "\n",
    "# Plotting Settings\n",
    "log_vmin = 60\n",
    "log_vmax = 600\n",
    "color_map = \"inferno\"\n",
    "\n",
    "# Aperture Photometry Settings\n",
    "aperture_position = (1525, 1525)\n",
    "aperture_a = 450\n",
    "aperture_b = 650\n",
    "aperture_theta = -0.5\n",
    "annulus_inner = 1.2\n",
    "annulus_outer = 1.8\n",
    "\n",
    "# CCD Characteristics\n",
    "gain = 1.5\n",
    "quantum_efficiency = 0.7 # How many electrons are counted per photon that hits"
   ]
  },
  {
   "cell_type": "markdown",
   "metadata": {},
   "source": [
    "# FITS Reader"
   ]
  },
  {
   "cell_type": "code",
   "execution_count": null,
   "metadata": {},
   "outputs": [],
   "source": [
    "def get_fits_data(path):\n",
    "    '''Returns the data and header for every image found in a folder path.'''\n",
    "\n",
    "    isFolder = False if path.endswith(\".fits\") else True\n",
    "\n",
    "    # If this is just a single file, only get its data\n",
    "    file_paths = []\n",
    "    if not isFolder: \n",
    "        file_paths.append(path)\n",
    "\n",
    "    # If the path is to a folder, find all files in the folder\n",
    "    else:\n",
    "        for (path, dirnames, filenames) in os.walk(path):\n",
    "            file_paths.extend(os.path.join(path, name) for name in filenames)\n",
    "    \n",
    "    # Gets all the fits data and headers from the found files\n",
    "    data = []\n",
    "    headers = []\n",
    "    for file in file_paths:\n",
    "        data.append(fits.getdata(file))\n",
    "        headers.append(fits.getheader(file))\n",
    "    \n",
    "    # If its a folder, return the data and headers for all found files\n",
    "    if isFolder: return data, headers\n",
    "\n",
    "    # If its a single file, return only the first element\n",
    "    else: return data[0], headers[0]"
   ]
  },
  {
   "cell_type": "markdown",
   "metadata": {},
   "source": [
    "# Calibration Functions"
   ]
  },
  {
   "cell_type": "code",
   "execution_count": null,
   "metadata": {},
   "outputs": [],
   "source": [
    "def get_master_bias(biases):\n",
    "    '''Finds the median value for each pixel from a set of biases.'''\n",
    "    return np.median(biases, axis=0)\n",
    "\n",
    "def get_master_dark(darks, exposure, bias):\n",
    "    '''\n",
    "    Subtracts the bias and finds the median to create a master dark.\n",
    "    Returns a scaled master dark with per-second values.\n",
    "    '''\n",
    "    master_dark = (np.median(darks, axis=0) - bias).clip(min=0)\n",
    "    return master_dark / exposure\n",
    "\n",
    "def get_master_flat(flats, flat_headers, dark, bias):\n",
    "    '''\n",
    "    Subtracts the bias and dark from each flat, and averages them to create a master flat.\n",
    "    Returned flat is normalized with 1 being the median valued pixel.\n",
    "    '''\n",
    "    exposure = flat_headers[0]['Exposure']\n",
    "    flat = (flats[0] - (bias + (dark * exposure))) / len(flats)\n",
    "    for i in range(1, len(flats)):\n",
    "        exposure = flat_headers[i]['Exposure']\n",
    "        flat += (flats[i] - (bias + (dark * exposure))) / len(flats)\n",
    "    return flat / np.median(flat)"
   ]
  },
  {
   "cell_type": "markdown",
   "metadata": {},
   "source": [
    "# Grabbing Calibrations"
   ]
  },
  {
   "cell_type": "code",
   "execution_count": null,
   "metadata": {},
   "outputs": [],
   "source": [
    "def create_masters(path, filter):\n",
    "\n",
    "    biases, bias_headers = get_fits_data(os.path.join(path, \"biases\"))\n",
    "    master_bias = get_master_bias(biases)\n",
    "\n",
    "    darks, dark_headers = get_fits_data(os.path.join(path, \"darks\"))\n",
    "    master_dark = get_master_dark(darks, 1800, master_bias)\n",
    "\n",
    "    flats, flat_headers = get_fits_data(os.path.join(path, \"flats\", filter))\n",
    "    master_flat = get_master_flat(flats, flat_headers, master_dark, master_bias)\n",
    "\n",
    "    return master_bias, master_dark, master_flat"
   ]
  },
  {
   "cell_type": "code",
   "execution_count": null,
   "metadata": {},
   "outputs": [],
   "source": [
    "def correct_image(image, bias, dark, flat):\n",
    "    debiased = (image - bias).clip(min=0)\n",
    "    dedarked = (debiased - dark * 1800).clip(min=0)\n",
    "    flat_corrected = dedarked / flat\n",
    "    return debiased, dedarked, flat_corrected"
   ]
  },
  {
   "cell_type": "markdown",
   "metadata": {},
   "source": [
    "# Plotting"
   ]
  },
  {
   "cell_type": "code",
   "execution_count": null,
   "metadata": {},
   "outputs": [
    {
     "data": {
      "text/plain": [
       "'def plot_fits(image, title, secondary_plot=None, secondary_title=\"\", my_vmin=None, my_vmax=None, save_fig=False):\\n\\n    if my_vmin == None: my_vmin = np.min(image)    # set vmin to min data value if none was specified\\n    if my_vmax == None: my_vmax = np.max(image)    # set vmax to max data value if noe was specified\\n    \\n    #median = np.mean(image.flatten())\\n    #image_iqr = iqr(image.flatten())\\n    #print(f\"Median: {median}, IQR: {image_iqr}\")\\n    \\n    fig, ax = plt.subplot_mosaic(\\n        \\'\\'\\'\\n        AAB\\n        AAC\\n        \\'\\'\\',\\n        figsize = (12, 6)#, constrained_layout = True\\n    )\\n\\n    ax[\\'A\\'].imshow(image, norm=LogNorm(vmin=my_vmin, vmax=my_vmax), cmap=color_map)#,cmap = plt.cm.viridis)\\n    ax[\\'A\\'].set_title(title);\\n    ax[\\'A\\'].grid(False)\\n\\n    if secondary_plot is not None:\\n        ax[\\'B\\'].imshow(secondary_plot, cmap=color_map, norm=LogNorm())\\n        ax[\\'B\\'].set_title(secondary_title)\\n    \\n    ax[\\'C\\'].set_xlabel(\"Pixel Values\")\\n    ax[\\'C\\'].set_ylabel(\"Log(count)\")\\n    \\n    ax[\\'C\\'].hist(image.flatten(), color=\"red\", bins=500, log=True);\\n    ax[\\'C\\'].set_xlim(0, 65536)\\n    #ax[\\'C\\'].set_ylim(0, 10)\\n    \\n    # save image\\n    #if save_fig:    fig.savefig(image_name);\\n\\n    plt.show();'"
      ]
     },
     "execution_count": 7,
     "metadata": {},
     "output_type": "execute_result"
    }
   ],
   "source": [
    "\"\"\"def plot_fits(image, title, secondary_plot=None, secondary_title=\"\", my_vmin=None, my_vmax=None, save_fig=False):\n",
    "\n",
    "    if my_vmin == None: my_vmin = np.min(image)    # set vmin to min data value if none was specified\n",
    "    if my_vmax == None: my_vmax = np.max(image)    # set vmax to max data value if noe was specified\n",
    "    \n",
    "    #median = np.mean(image.flatten())\n",
    "    #image_iqr = iqr(image.flatten())\n",
    "    #print(f\"Median: {median}, IQR: {image_iqr}\")\n",
    "    \n",
    "    fig, ax = plt.subplot_mosaic(\n",
    "        '''\n",
    "        AAB\n",
    "        AAC\n",
    "        ''',\n",
    "        figsize = (12, 6)#, constrained_layout = True\n",
    "    )\n",
    "\n",
    "    ax['A'].imshow(image, norm=LogNorm(vmin=my_vmin, vmax=my_vmax), cmap=color_map)#,cmap = plt.cm.viridis)\n",
    "    ax['A'].set_title(title);\n",
    "    ax['A'].grid(False)\n",
    "\n",
    "    if secondary_plot is not None:\n",
    "        ax['B'].imshow(secondary_plot, cmap=color_map, norm=LogNorm())\n",
    "        ax['B'].set_title(secondary_title)\n",
    "    \n",
    "    ax['C'].set_xlabel(\"Pixel Values\")\n",
    "    ax['C'].set_ylabel(\"Log(count)\")\n",
    "    \n",
    "    ax['C'].hist(image.flatten(), color=\"red\", bins=500, log=True);\n",
    "    ax['C'].set_xlim(0, 65536)\n",
    "    #ax['C'].set_ylim(0, 10)\n",
    "    \n",
    "    # save image\n",
    "    #if save_fig:    fig.savefig(image_name);\n",
    "\n",
    "    plt.show();\"\"\""
   ]
  },
  {
   "cell_type": "code",
   "execution_count": null,
   "metadata": {},
   "outputs": [],
   "source": [
    "def compare_images(image, bias, debiased_image, dark, dedarked_image, flat, flat_corrected_image, vmin, vmax):\n",
    "    \n",
    "    fig, ax = plt.subplot_mosaic(\n",
    "        '''\n",
    "        AABB\n",
    "        AABB\n",
    "        CCDD\n",
    "        CCDD\n",
    "        EEFF\n",
    "        EEFF\n",
    "        GGHH\n",
    "        GGHH\n",
    "        ''',\n",
    "        figsize = (14, 32)\n",
    "    )\n",
    "\n",
    "    # Hide the fake empty plots \n",
    "    ax['H'].set_visible(False)\n",
    "    \n",
    "    ax['A'].grid(False)\n",
    "    ax['A'].set_title(\"Untouched Image\")\n",
    "    ax['A'].imshow(image, norm = LogNorm(vmin = vmin, vmax = vmax), cmap = color_map)\n",
    "\n",
    "    ax['B'].grid(False)\n",
    "    ax['B'].set_title(\"Master Bias\")\n",
    "    bias_median = np.median(bias)\n",
    "    bias_iqr = iqr(bias)\n",
    "    ax['B'].imshow(bias, norm = LogNorm(vmin = bias_median - 3 * bias_iqr, vmax = bias_median + 3 * bias_iqr), cmap = color_map)\n",
    "\n",
    "    ax['C'].grid(False)\n",
    "    ax['C'].set_title(\"Debiased Image\")\n",
    "    ax['C'].imshow(debiased_image, norm = LogNorm(vmin = vmin, vmax = vmax), cmap = color_map)\n",
    "\n",
    "    ax['D'].grid(False)\n",
    "    ax['D'].set_title(\"Master Dark\")\n",
    "    ax['D'].imshow(dark, norm = LogNorm(), cmap = color_map)\n",
    "\n",
    "    ax['E'].grid(False)\n",
    "    ax['E'].set_title(\"Dedarked Image\")\n",
    "    ax['E'].imshow(dedarked_image, norm = LogNorm(vmin = vmin, vmax = vmax), cmap = color_map)\n",
    "\n",
    "    ax['F'].grid(False)\n",
    "    ax['F'].set_title(\"Master Flat\")\n",
    "    flat_median = np.median(flat)\n",
    "    flat_iqr = iqr(flat)\n",
    "    ax['F'].imshow(flat, norm = LogNorm(vmin = flat_median - 3 * flat_iqr, vmax = flat_median + 3 * flat_iqr), cmap = color_map)\n",
    "    \n",
    "    ax['G'].grid(False)\n",
    "    ax['G'].set_title(\"Flat Corrected Image\")\n",
    "    ax['G'].imshow(flat_corrected_image, norm = LogNorm(vmin = vmin, vmax = vmax), cmap = color_map)\n",
    "\n",
    "    #ax['C'].set_xlabel(\"Pixel Values\")\n",
    "    #ax['C'].set_ylabel(\"Log(count)\")\n",
    "    \n",
    "    #ax['C'].hist(image.flatten(), color=\"red\", bins=500, log=True);\n",
    "    #ax['C'].set_xlim(0, 65536)\n",
    "    #ax['C'].set_ylim(0, 10)\n",
    "    \n",
    "    # save image\n",
    "    #if save_fig:    fig.savefig(image_name);\n",
    "\n",
    "    plt.show();"
   ]
  },
  {
   "cell_type": "markdown",
   "metadata": {},
   "source": [
    "# Calibrating and Plotting Data"
   ]
  },
  {
   "cell_type": "code",
   "execution_count": null,
   "metadata": {},
   "outputs": [
    {
     "ename": "FileNotFoundError",
     "evalue": "[Errno 2] No such file or directory: 'data\\\\480\\\\m81\\\\M81_Halpha_20230419_055757.fits'",
     "output_type": "error",
     "traceback": [
      "\u001b[1;31m---------------------------------------------------------------------------\u001b[0m",
      "\u001b[1;31mFileNotFoundError\u001b[0m                         Traceback (most recent call last)",
      "\u001b[1;32m~\\AppData\\Local\\Temp\\ipykernel_14044\\1504090501.py\u001b[0m in \u001b[0;36m<module>\u001b[1;34m\u001b[0m\n\u001b[0;32m      1\u001b[0m \u001b[1;31m# Grab image and create master calibration images\u001b[0m\u001b[1;33m\u001b[0m\u001b[1;33m\u001b[0m\u001b[0m\n\u001b[1;32m----> 2\u001b[1;33m \u001b[0mimage\u001b[0m\u001b[1;33m,\u001b[0m \u001b[0mheader\u001b[0m \u001b[1;33m=\u001b[0m \u001b[0mget_fits_data\u001b[0m\u001b[1;33m(\u001b[0m\u001b[0mos\u001b[0m\u001b[1;33m.\u001b[0m\u001b[0mpath\u001b[0m\u001b[1;33m.\u001b[0m\u001b[0mjoin\u001b[0m\u001b[1;33m(\u001b[0m\u001b[0mdata_path\u001b[0m\u001b[1;33m,\u001b[0m \u001b[0mimage_path\u001b[0m\u001b[1;33m)\u001b[0m\u001b[1;33m)\u001b[0m\u001b[1;33m\u001b[0m\u001b[1;33m\u001b[0m\u001b[0m\n\u001b[0m\u001b[0;32m      3\u001b[0m \u001b[0mbias\u001b[0m\u001b[1;33m,\u001b[0m \u001b[0mdark\u001b[0m\u001b[1;33m,\u001b[0m \u001b[0mflat\u001b[0m \u001b[1;33m=\u001b[0m \u001b[0mcreate_masters\u001b[0m\u001b[1;33m(\u001b[0m\u001b[0mdata_path\u001b[0m\u001b[1;33m,\u001b[0m \u001b[0mfilter\u001b[0m\u001b[1;33m)\u001b[0m\u001b[1;33m\u001b[0m\u001b[1;33m\u001b[0m\u001b[0m\n\u001b[0;32m      4\u001b[0m \u001b[1;33m\u001b[0m\u001b[0m\n\u001b[0;32m      5\u001b[0m \u001b[1;31m# Calibrate image by subtracting the bias and dark, then dividing by the flat\u001b[0m\u001b[1;33m\u001b[0m\u001b[1;33m\u001b[0m\u001b[0m\n",
      "\u001b[1;32m~\\AppData\\Local\\Temp\\ipykernel_14044\\1294878675.py\u001b[0m in \u001b[0;36mget_fits_data\u001b[1;34m(path)\u001b[0m\n\u001b[0;32m     18\u001b[0m     \u001b[0mheaders\u001b[0m \u001b[1;33m=\u001b[0m \u001b[1;33m[\u001b[0m\u001b[1;33m]\u001b[0m\u001b[1;33m\u001b[0m\u001b[1;33m\u001b[0m\u001b[0m\n\u001b[0;32m     19\u001b[0m     \u001b[1;32mfor\u001b[0m \u001b[0mfile\u001b[0m \u001b[1;32min\u001b[0m \u001b[0mfile_paths\u001b[0m\u001b[1;33m:\u001b[0m\u001b[1;33m\u001b[0m\u001b[1;33m\u001b[0m\u001b[0m\n\u001b[1;32m---> 20\u001b[1;33m         \u001b[0mdata\u001b[0m\u001b[1;33m.\u001b[0m\u001b[0mappend\u001b[0m\u001b[1;33m(\u001b[0m\u001b[0mfits\u001b[0m\u001b[1;33m.\u001b[0m\u001b[0mgetdata\u001b[0m\u001b[1;33m(\u001b[0m\u001b[0mfile\u001b[0m\u001b[1;33m)\u001b[0m\u001b[1;33m)\u001b[0m\u001b[1;33m\u001b[0m\u001b[1;33m\u001b[0m\u001b[0m\n\u001b[0m\u001b[0;32m     21\u001b[0m         \u001b[0mheaders\u001b[0m\u001b[1;33m.\u001b[0m\u001b[0mappend\u001b[0m\u001b[1;33m(\u001b[0m\u001b[0mfits\u001b[0m\u001b[1;33m.\u001b[0m\u001b[0mgetheader\u001b[0m\u001b[1;33m(\u001b[0m\u001b[0mfile\u001b[0m\u001b[1;33m)\u001b[0m\u001b[1;33m)\u001b[0m\u001b[1;33m\u001b[0m\u001b[1;33m\u001b[0m\u001b[0m\n\u001b[0;32m     22\u001b[0m \u001b[1;33m\u001b[0m\u001b[0m\n",
      "\u001b[1;32mC:\\ProgramData\\Anaconda3\\lib\\site-packages\\astropy\\io\\fits\\convenience.py\u001b[0m in \u001b[0;36mgetdata\u001b[1;34m(filename, header, lower, upper, view, *args, **kwargs)\u001b[0m\n\u001b[0;32m    201\u001b[0m                      extname is None and extver is None)\n\u001b[0;32m    202\u001b[0m \u001b[1;33m\u001b[0m\u001b[0m\n\u001b[1;32m--> 203\u001b[1;33m     \u001b[0mhdulist\u001b[0m\u001b[1;33m,\u001b[0m \u001b[0mextidx\u001b[0m \u001b[1;33m=\u001b[0m \u001b[0m_getext\u001b[0m\u001b[1;33m(\u001b[0m\u001b[0mfilename\u001b[0m\u001b[1;33m,\u001b[0m \u001b[0mmode\u001b[0m\u001b[1;33m,\u001b[0m \u001b[1;33m*\u001b[0m\u001b[0margs\u001b[0m\u001b[1;33m,\u001b[0m \u001b[1;33m**\u001b[0m\u001b[0mkwargs\u001b[0m\u001b[1;33m)\u001b[0m\u001b[1;33m\u001b[0m\u001b[1;33m\u001b[0m\u001b[0m\n\u001b[0m\u001b[0;32m    204\u001b[0m     \u001b[1;32mtry\u001b[0m\u001b[1;33m:\u001b[0m\u001b[1;33m\u001b[0m\u001b[1;33m\u001b[0m\u001b[0m\n\u001b[0;32m    205\u001b[0m         \u001b[0mhdu\u001b[0m \u001b[1;33m=\u001b[0m \u001b[0mhdulist\u001b[0m\u001b[1;33m[\u001b[0m\u001b[0mextidx\u001b[0m\u001b[1;33m]\u001b[0m\u001b[1;33m\u001b[0m\u001b[1;33m\u001b[0m\u001b[0m\n",
      "\u001b[1;32mC:\\ProgramData\\Anaconda3\\lib\\site-packages\\astropy\\io\\fits\\convenience.py\u001b[0m in \u001b[0;36m_getext\u001b[1;34m(filename, mode, ext, extname, extver, *args, **kwargs)\u001b[0m\n\u001b[0;32m   1069\u001b[0m         \u001b[1;32mraise\u001b[0m \u001b[0mTypeError\u001b[0m\u001b[1;33m(\u001b[0m\u001b[1;34m'extver alone cannot specify an extension.'\u001b[0m\u001b[1;33m)\u001b[0m\u001b[1;33m\u001b[0m\u001b[1;33m\u001b[0m\u001b[0m\n\u001b[0;32m   1070\u001b[0m \u001b[1;33m\u001b[0m\u001b[0m\n\u001b[1;32m-> 1071\u001b[1;33m     \u001b[0mhdulist\u001b[0m \u001b[1;33m=\u001b[0m \u001b[0mfitsopen\u001b[0m\u001b[1;33m(\u001b[0m\u001b[0mfilename\u001b[0m\u001b[1;33m,\u001b[0m \u001b[0mmode\u001b[0m\u001b[1;33m=\u001b[0m\u001b[0mmode\u001b[0m\u001b[1;33m,\u001b[0m \u001b[1;33m**\u001b[0m\u001b[0mkwargs\u001b[0m\u001b[1;33m)\u001b[0m\u001b[1;33m\u001b[0m\u001b[1;33m\u001b[0m\u001b[0m\n\u001b[0m\u001b[0;32m   1072\u001b[0m \u001b[1;33m\u001b[0m\u001b[0m\n\u001b[0;32m   1073\u001b[0m     \u001b[1;32mreturn\u001b[0m \u001b[0mhdulist\u001b[0m\u001b[1;33m,\u001b[0m \u001b[0mext\u001b[0m\u001b[1;33m\u001b[0m\u001b[1;33m\u001b[0m\u001b[0m\n",
      "\u001b[1;32mC:\\ProgramData\\Anaconda3\\lib\\site-packages\\astropy\\io\\fits\\hdu\\hdulist.py\u001b[0m in \u001b[0;36mfitsopen\u001b[1;34m(name, mode, memmap, save_backup, cache, lazy_load_hdus, ignore_missing_simple, **kwargs)\u001b[0m\n\u001b[0;32m    173\u001b[0m         \u001b[1;32mraise\u001b[0m \u001b[0mValueError\u001b[0m\u001b[1;33m(\u001b[0m\u001b[1;34mf'Empty filename: {name!r}'\u001b[0m\u001b[1;33m)\u001b[0m\u001b[1;33m\u001b[0m\u001b[1;33m\u001b[0m\u001b[0m\n\u001b[0;32m    174\u001b[0m \u001b[1;33m\u001b[0m\u001b[0m\n\u001b[1;32m--> 175\u001b[1;33m     return HDUList.fromfile(name, mode, memmap, save_backup, cache,\n\u001b[0m\u001b[0;32m    176\u001b[0m                             lazy_load_hdus, ignore_missing_simple, **kwargs)\n\u001b[0;32m    177\u001b[0m \u001b[1;33m\u001b[0m\u001b[0m\n",
      "\u001b[1;32mC:\\ProgramData\\Anaconda3\\lib\\site-packages\\astropy\\io\\fits\\hdu\\hdulist.py\u001b[0m in \u001b[0;36mfromfile\u001b[1;34m(cls, fileobj, mode, memmap, save_backup, cache, lazy_load_hdus, ignore_missing_simple, **kwargs)\u001b[0m\n\u001b[0;32m    408\u001b[0m         \"\"\"\n\u001b[0;32m    409\u001b[0m \u001b[1;33m\u001b[0m\u001b[0m\n\u001b[1;32m--> 410\u001b[1;33m         return cls._readfrom(fileobj=fileobj, mode=mode, memmap=memmap,\n\u001b[0m\u001b[0;32m    411\u001b[0m                              \u001b[0msave_backup\u001b[0m\u001b[1;33m=\u001b[0m\u001b[0msave_backup\u001b[0m\u001b[1;33m,\u001b[0m \u001b[0mcache\u001b[0m\u001b[1;33m=\u001b[0m\u001b[0mcache\u001b[0m\u001b[1;33m,\u001b[0m\u001b[1;33m\u001b[0m\u001b[1;33m\u001b[0m\u001b[0m\n\u001b[0;32m    412\u001b[0m                              \u001b[0mignore_missing_simple\u001b[0m\u001b[1;33m=\u001b[0m\u001b[0mignore_missing_simple\u001b[0m\u001b[1;33m,\u001b[0m\u001b[1;33m\u001b[0m\u001b[1;33m\u001b[0m\u001b[0m\n",
      "\u001b[1;32mC:\\ProgramData\\Anaconda3\\lib\\site-packages\\astropy\\io\\fits\\hdu\\hdulist.py\u001b[0m in \u001b[0;36m_readfrom\u001b[1;34m(cls, fileobj, data, mode, memmap, cache, lazy_load_hdus, ignore_missing_simple, **kwargs)\u001b[0m\n\u001b[0;32m   1058\u001b[0m             \u001b[1;32mif\u001b[0m \u001b[1;32mnot\u001b[0m \u001b[0misinstance\u001b[0m\u001b[1;33m(\u001b[0m\u001b[0mfileobj\u001b[0m\u001b[1;33m,\u001b[0m \u001b[0m_File\u001b[0m\u001b[1;33m)\u001b[0m\u001b[1;33m:\u001b[0m\u001b[1;33m\u001b[0m\u001b[1;33m\u001b[0m\u001b[0m\n\u001b[0;32m   1059\u001b[0m                 \u001b[1;31m# instantiate a FITS file object (ffo)\u001b[0m\u001b[1;33m\u001b[0m\u001b[1;33m\u001b[0m\u001b[0m\n\u001b[1;32m-> 1060\u001b[1;33m                 \u001b[0mfileobj\u001b[0m \u001b[1;33m=\u001b[0m \u001b[0m_File\u001b[0m\u001b[1;33m(\u001b[0m\u001b[0mfileobj\u001b[0m\u001b[1;33m,\u001b[0m \u001b[0mmode\u001b[0m\u001b[1;33m=\u001b[0m\u001b[0mmode\u001b[0m\u001b[1;33m,\u001b[0m \u001b[0mmemmap\u001b[0m\u001b[1;33m=\u001b[0m\u001b[0mmemmap\u001b[0m\u001b[1;33m,\u001b[0m \u001b[0mcache\u001b[0m\u001b[1;33m=\u001b[0m\u001b[0mcache\u001b[0m\u001b[1;33m)\u001b[0m\u001b[1;33m\u001b[0m\u001b[1;33m\u001b[0m\u001b[0m\n\u001b[0m\u001b[0;32m   1061\u001b[0m             \u001b[1;31m# The Astropy mode is determined by the _File initializer if the\u001b[0m\u001b[1;33m\u001b[0m\u001b[1;33m\u001b[0m\u001b[0m\n\u001b[0;32m   1062\u001b[0m             \u001b[1;31m# supplied mode was None\u001b[0m\u001b[1;33m\u001b[0m\u001b[1;33m\u001b[0m\u001b[0m\n",
      "\u001b[1;32mC:\\ProgramData\\Anaconda3\\lib\\site-packages\\astropy\\io\\fits\\file.py\u001b[0m in \u001b[0;36m__init__\u001b[1;34m(self, fileobj, mode, memmap, overwrite, cache)\u001b[0m\n\u001b[0;32m    168\u001b[0m             \u001b[0mself\u001b[0m\u001b[1;33m.\u001b[0m\u001b[0m_open_fileobj\u001b[0m\u001b[1;33m(\u001b[0m\u001b[0mfileobj\u001b[0m\u001b[1;33m,\u001b[0m \u001b[0mmode\u001b[0m\u001b[1;33m,\u001b[0m \u001b[0moverwrite\u001b[0m\u001b[1;33m)\u001b[0m\u001b[1;33m\u001b[0m\u001b[1;33m\u001b[0m\u001b[0m\n\u001b[0;32m    169\u001b[0m         \u001b[1;32melif\u001b[0m \u001b[0misinstance\u001b[0m\u001b[1;33m(\u001b[0m\u001b[0mfileobj\u001b[0m\u001b[1;33m,\u001b[0m \u001b[1;33m(\u001b[0m\u001b[0mstr\u001b[0m\u001b[1;33m,\u001b[0m \u001b[0mbytes\u001b[0m\u001b[1;33m)\u001b[0m\u001b[1;33m)\u001b[0m\u001b[1;33m:\u001b[0m\u001b[1;33m\u001b[0m\u001b[1;33m\u001b[0m\u001b[0m\n\u001b[1;32m--> 170\u001b[1;33m             \u001b[0mself\u001b[0m\u001b[1;33m.\u001b[0m\u001b[0m_open_filename\u001b[0m\u001b[1;33m(\u001b[0m\u001b[0mfileobj\u001b[0m\u001b[1;33m,\u001b[0m \u001b[0mmode\u001b[0m\u001b[1;33m,\u001b[0m \u001b[0moverwrite\u001b[0m\u001b[1;33m)\u001b[0m\u001b[1;33m\u001b[0m\u001b[1;33m\u001b[0m\u001b[0m\n\u001b[0m\u001b[0;32m    171\u001b[0m         \u001b[1;32melse\u001b[0m\u001b[1;33m:\u001b[0m\u001b[1;33m\u001b[0m\u001b[1;33m\u001b[0m\u001b[0m\n\u001b[0;32m    172\u001b[0m             \u001b[0mself\u001b[0m\u001b[1;33m.\u001b[0m\u001b[0m_open_filelike\u001b[0m\u001b[1;33m(\u001b[0m\u001b[0mfileobj\u001b[0m\u001b[1;33m,\u001b[0m \u001b[0mmode\u001b[0m\u001b[1;33m,\u001b[0m \u001b[0moverwrite\u001b[0m\u001b[1;33m)\u001b[0m\u001b[1;33m\u001b[0m\u001b[1;33m\u001b[0m\u001b[0m\n",
      "\u001b[1;32mC:\\ProgramData\\Anaconda3\\lib\\site-packages\\astropy\\io\\fits\\file.py\u001b[0m in \u001b[0;36m_open_filename\u001b[1;34m(self, filename, mode, overwrite)\u001b[0m\n\u001b[0;32m    560\u001b[0m \u001b[1;33m\u001b[0m\u001b[0m\n\u001b[0;32m    561\u001b[0m         \u001b[1;32mif\u001b[0m \u001b[1;32mnot\u001b[0m \u001b[0mself\u001b[0m\u001b[1;33m.\u001b[0m\u001b[0m_try_read_compressed\u001b[0m\u001b[1;33m(\u001b[0m\u001b[0mself\u001b[0m\u001b[1;33m.\u001b[0m\u001b[0mname\u001b[0m\u001b[1;33m,\u001b[0m \u001b[0mmagic\u001b[0m\u001b[1;33m,\u001b[0m \u001b[0mmode\u001b[0m\u001b[1;33m,\u001b[0m \u001b[0mext\u001b[0m\u001b[1;33m=\u001b[0m\u001b[0mext\u001b[0m\u001b[1;33m)\u001b[0m\u001b[1;33m:\u001b[0m\u001b[1;33m\u001b[0m\u001b[1;33m\u001b[0m\u001b[0m\n\u001b[1;32m--> 562\u001b[1;33m             \u001b[0mself\u001b[0m\u001b[1;33m.\u001b[0m\u001b[0m_file\u001b[0m \u001b[1;33m=\u001b[0m \u001b[0mopen\u001b[0m\u001b[1;33m(\u001b[0m\u001b[0mself\u001b[0m\u001b[1;33m.\u001b[0m\u001b[0mname\u001b[0m\u001b[1;33m,\u001b[0m \u001b[0mIO_FITS_MODES\u001b[0m\u001b[1;33m[\u001b[0m\u001b[0mmode\u001b[0m\u001b[1;33m]\u001b[0m\u001b[1;33m)\u001b[0m\u001b[1;33m\u001b[0m\u001b[1;33m\u001b[0m\u001b[0m\n\u001b[0m\u001b[0;32m    563\u001b[0m             \u001b[0mself\u001b[0m\u001b[1;33m.\u001b[0m\u001b[0mclose_on_error\u001b[0m \u001b[1;33m=\u001b[0m \u001b[1;32mTrue\u001b[0m\u001b[1;33m\u001b[0m\u001b[1;33m\u001b[0m\u001b[0m\n\u001b[0;32m    564\u001b[0m \u001b[1;33m\u001b[0m\u001b[0m\n",
      "\u001b[1;31mFileNotFoundError\u001b[0m: [Errno 2] No such file or directory: 'data\\\\480\\\\m81\\\\M81_Halpha_20230419_055757.fits'"
     ]
    }
   ],
   "source": [
    "# Grab image and create master calibration images\n",
    "image, header = get_fits_data(os.path.join(data_path, image_path))\n",
    "bias, dark, flat = create_masters(data_path, filter)\n",
    "\n",
    "# Calibrate image by subtracting the bias and dark, then dividing by the flat\n",
    "debiased, dedarked, flat_corrected = correct_image(image, bias, dark, flat)"
   ]
  },
  {
   "cell_type": "code",
   "execution_count": null,
   "metadata": {},
   "outputs": [],
   "source": [
    "# Plot the images both before and after corrections were made\n",
    "compare_images(image, bias, debiased, dark * 1800, dedarked, flat, flat_corrected, log_vmin, log_vmax)"
   ]
  },
  {
   "cell_type": "markdown",
   "metadata": {},
   "source": [
    "# Aperture Photometry"
   ]
  },
  {
   "cell_type": "code",
   "execution_count": null,
   "metadata": {},
   "outputs": [
    {
     "ename": "NameError",
     "evalue": "name 'flat_corrected' is not defined",
     "output_type": "error",
     "traceback": [
      "\u001b[1;31m---------------------------------------------------------------------------\u001b[0m",
      "\u001b[1;31mNameError\u001b[0m                                 Traceback (most recent call last)",
      "\u001b[1;32m~\\AppData\\Local\\Temp\\ipykernel_14044\\1756005628.py\u001b[0m in \u001b[0;36m<module>\u001b[1;34m\u001b[0m\n\u001b[0;32m     11\u001b[0m \u001b[1;33m\u001b[0m\u001b[0m\n\u001b[0;32m     12\u001b[0m \u001b[1;31m# Plot the object with its apertures\u001b[0m\u001b[1;33m\u001b[0m\u001b[1;33m\u001b[0m\u001b[0m\n\u001b[1;32m---> 13\u001b[1;33m plt.imshow(flat_corrected, cmap = color_map, origin = 'lower', \n\u001b[0m\u001b[0;32m     14\u001b[0m            norm = LogNorm(vmin = log_vmin, vmax = log_vmax))\n\u001b[0;32m     15\u001b[0m \u001b[0maperture\u001b[0m\u001b[1;33m.\u001b[0m\u001b[0mplot\u001b[0m\u001b[1;33m(\u001b[0m\u001b[0mcolor\u001b[0m \u001b[1;33m=\u001b[0m \u001b[1;34m'lightgreen'\u001b[0m\u001b[1;33m,\u001b[0m \u001b[0mlw\u001b[0m \u001b[1;33m=\u001b[0m \u001b[1;36m1.5\u001b[0m\u001b[1;33m,\u001b[0m \u001b[0malpha\u001b[0m \u001b[1;33m=\u001b[0m \u001b[1;36m1\u001b[0m\u001b[1;33m)\u001b[0m\u001b[1;33m;\u001b[0m\u001b[1;33m\u001b[0m\u001b[1;33m\u001b[0m\u001b[0m\n",
      "\u001b[1;31mNameError\u001b[0m: name 'flat_corrected' is not defined"
     ]
    }
   ],
   "source": [
    "# Create an aperture and annulus for the object\n",
    "aperture = EllipticalAperture(aperture_position, a = semiMajor, b = semiMinor, theta = aperture_theta)\n",
    "annulus_aperture = EllipticalAnnulus(aperture_position, a_in = semiMajor * annulus_inner, a_out = semiMajor * annulus_outer, \n",
    "                                     b_in = semiMinor * annulus_inner, b_out = semiMinor * annulus_outer, theta = aperture_theta)\n",
    "\n",
    "# Plot the object with its apertures\n",
    "plt.imshow(flat_corrected, cmap = color_map, origin = 'lower', \n",
    "           norm = LogNorm(vmin = log_vmin, vmax = log_vmax))\n",
    "aperture.plot(color = 'lightgreen', lw = 1.5, alpha = 1);\n",
    "annulus_aperture.plot(color = 'red', lw = 1.5, alpha = 1);"
   ]
  },
  {
   "cell_type": "code",
   "execution_count": null,
   "metadata": {},
   "outputs": [],
   "source": [
    "# Do photometry on the aperture and annulus\n",
    "aperture_phot = aperture_photometry(flat_corrected, aperture)\n",
    "aperture_phot['aperture_sum'].info.format = '%.8g'\n",
    "annulus_phot = aperture_photometry(flat_corrected, annulus_aperture)\n",
    "\n",
    "# Find the count per area in the annulus to get the sky background\n",
    "annulus_area = np.pi * semiMajor * semiMinor * ((annulus_outer ** 2) - (annulus_inner ** 2))\n",
    "aperture_area = np.pi * aperture_a * aperture_b\n",
    "annulus_count_per_m2 = annulus_phot['aperture_sum'] / annulus_area\n",
    "\n",
    "# Subtract the sky background from the aperture photometry\n",
    "sky_background = annulus_count_per_m2 * aperture_area\n",
    "adjusted_counts = aperture_phot['aperture_sum'] - sky_background"
   ]
  },
  {
   "cell_type": "markdown",
   "metadata": {},
   "source": [
    "# Get Star Formation Rate"
   ]
  },
  {
   "cell_type": "code",
   "execution_count": null,
   "metadata": {},
   "outputs": [],
   "source": [
    "# Get the number of photons that hit in this area per second\n",
    "electrons_per_sec = (adjusted_counts[0] * gain) / exposure\n",
    "photons_per_sec = electrons_per_sec / quantum_efficiency\n",
    "\n",
    "# Find the luminosity of the target\n",
    "hc = 1.986E-25 # Speed of light times planck constant (in J/m)\n",
    "mean_photon_energy = (hc / wavelength) # Average energy of a photon of this wavelength\n",
    "flux_density = photons_per_sec * mean_photon_energy\n",
    "luminosity = flux_density * 4 * np.pi * (distance ** 2)\n",
    "luminosity *= 10000000 # Converts from watts to ergs/s\n",
    "print(f\"Luminosity: {luminosity} ergs/s\")\n",
    "\n",
    "# Use the luminosity in Halpha to calculate the star formation rate\n",
    "SFR = 7.9 * (10 ** (-42)) * luminosity\n",
    "print(f\"SFR: {SFR:.2e} solar masses per year\")"
   ]
  },
  {
   "cell_type": "code",
   "execution_count": null,
   "metadata": {},
   "outputs": [],
   "source": []
  }
 ],
 "metadata": {
  "kernelspec": {
   "display_name": "Python 3 (ipykernel)",
   "language": "python",
   "name": "python3"
  },
  "language_info": {
   "codemirror_mode": {
    "name": "ipython",
    "version": 3
   },
   "file_extension": ".py",
   "mimetype": "text/x-python",
   "name": "python",
   "nbconvert_exporter": "python",
   "pygments_lexer": "ipython3",
   "version": "3.9.13"
  }
 },
 "nbformat": 4,
 "nbformat_minor": 4
}
