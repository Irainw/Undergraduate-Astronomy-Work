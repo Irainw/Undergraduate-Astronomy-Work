{
 "cells": [
  {
   "cell_type": "markdown",
   "metadata": {},
   "source": [
    "# Reading Data Homework"
   ]
  },
  {
   "cell_type": "code",
   "execution_count": 1,
   "metadata": {},
   "outputs": [
    {
     "ename": "ModuleNotFoundError",
     "evalue": "No module named 'astroquery'",
     "output_type": "error",
     "traceback": [
      "\u001b[1;31m---------------------------------------------------------------------------\u001b[0m",
      "\u001b[1;31mModuleNotFoundError\u001b[0m                       Traceback (most recent call last)",
      "\u001b[1;32m~\\AppData\\Local\\Temp\\ipykernel_7880\\3537885402.py\u001b[0m in \u001b[0;36m<module>\u001b[1;34m\u001b[0m\n\u001b[0;32m      1\u001b[0m \u001b[1;32mimport\u001b[0m \u001b[0mnumpy\u001b[0m \u001b[1;32mas\u001b[0m \u001b[0mnp\u001b[0m\u001b[1;33m\u001b[0m\u001b[1;33m\u001b[0m\u001b[0m\n\u001b[0;32m      2\u001b[0m \u001b[1;32mfrom\u001b[0m \u001b[0mastropy\u001b[0m\u001b[1;33m.\u001b[0m\u001b[0mtable\u001b[0m \u001b[1;32mimport\u001b[0m \u001b[0mQTable\u001b[0m\u001b[1;33m\u001b[0m\u001b[1;33m\u001b[0m\u001b[0m\n\u001b[1;32m----> 3\u001b[1;33m \u001b[1;32mfrom\u001b[0m \u001b[0mastroquery\u001b[0m\u001b[1;33m.\u001b[0m\u001b[0mgaia\u001b[0m \u001b[1;32mimport\u001b[0m \u001b[0mGaia\u001b[0m\u001b[1;33m\u001b[0m\u001b[1;33m\u001b[0m\u001b[0m\n\u001b[0m",
      "\u001b[1;31mModuleNotFoundError\u001b[0m: No module named 'astroquery'"
     ]
    }
   ],
   "source": [
    "import numpy as np\n",
    "from astropy.table import QTable\n",
    "from astroquery.gaia import Gaia"
   ]
  },
  {
   "cell_type": "markdown",
   "metadata": {},
   "source": [
    "### Get a list of ALL the Gaia objects you would see straight above your head (Zenith) at midnight tonight (10/12).\n",
    "\n",
    "### You will need information from your [Astro Info Sheet](./Info/AstroInfo.pdf).\n",
    "\n",
    "### At midnight tonight:\n",
    "\n",
    "  - The Local Sidereal Time (LST) for Seattle (this room) at local midnight on Oct 12th is 1.23 deg.\n",
    "  - Seattle (this room) has a latitude of +47.65 deg.\n",
    "\n",
    "### You want all objects with \n",
    "\n",
    "- `ra` and `dec` within 1 degree of the Zenith\n",
    "- `phot_g_mean_mag` < 10\n",
    "- `parallax` > 0\n",
    "- You also want the `source_id` and color index (`bp_rp`) for all objects"
   ]
  },
  {
   "cell_type": "code",
   "execution_count": 2,
   "metadata": {},
   "outputs": [],
   "source": [
    "queryOne = \"\"\"\n",
    "SELECT TOP 100\n",
    "source_id, ra, dec, phot_g_mean_mag, parallax, bp_rp\n",
    "FROM gaiadr3.gaia_source_lite\n",
    "WHERE CONTAINS(\n",
    "   POINT('ICRS', 1.23, 47.65),\n",
    "   CIRCLE('ICRS', ra, dec, 1)\n",
    "   ) = 1\n",
    "AND phot_g_mean_mag < 10.0\n",
    "AND parallax > 0\n",
    "AND bp_rp IS NOT NULL\n",
    "ORDER BY bp_rp ASC\n",
    "\"\"\""
   ]
  },
  {
   "cell_type": "code",
   "execution_count": 3,
   "metadata": {},
   "outputs": [
    {
     "name": "stdout",
     "output_type": "stream",
     "text": [
      "\n",
      "SELECT TOP 100\n",
      "source_id, ra, dec, phot_g_mean_mag, parallax, bp_rp\n",
      "FROM gaiadr3.gaia_source_lite\n",
      "WHERE CONTAINS(\n",
      "   POINT('ICRS', 1.23, 47.65),\n",
      "   CIRCLE('ICRS', ra, dec, 1)\n",
      "   ) = 1\n",
      "AND phot_g_mean_mag < 10.0\n",
      "AND parallax > 0\n",
      "AND bp_rp IS NOT NULL\n",
      "ORDER BY bp_rp ASC\n",
      "\n"
     ]
    }
   ],
   "source": [
    "print(queryOne)"
   ]
  },
  {
   "cell_type": "code",
   "execution_count": 4,
   "metadata": {},
   "outputs": [],
   "source": [
    "midnightJob = Gaia.launch_job(queryOne)"
   ]
  },
  {
   "cell_type": "code",
   "execution_count": 5,
   "metadata": {},
   "outputs": [
    {
     "data": {
      "text/html": [
       "<div><i>Table length=44</i>\n",
       "<table id=\"table140461917728976\" class=\"table-striped table-bordered table-condensed\">\n",
       "<thead><tr><th>source_id</th><th>ra</th><th>dec</th><th>phot_g_mean_mag</th><th>parallax</th><th>bp_rp</th></tr></thead>\n",
       "<thead><tr><th></th><th>deg</th><th>deg</th><th>mag</th><th>mas</th><th>mag</th></tr></thead>\n",
       "<thead><tr><th>int64</th><th>float64</th><th>float64</th><th>float32</th><th>float64</th><th>float32</th></tr></thead>\n",
       "<tr><td>387265694864872064</td><td>0.34830775880952414</td><td>47.398038007347004</td><td>9.531222</td><td>1.1806670135937007</td><td>0.07384682</td></tr>\n",
       "<tr><td>393289609837293312</td><td>0.9241862552473424</td><td>48.43686655391979</td><td>6.7911806</td><td>7.549027097652189</td><td>0.07444668</td></tr>\n",
       "<tr><td>387205702762203392</td><td>1.4478364083048825</td><td>47.08728242495348</td><td>8.4606495</td><td>2.347040040356511</td><td>0.07517624</td></tr>\n",
       "<tr><td>387248819938407424</td><td>0.7141248779233184</td><td>47.2522510421125</td><td>8.898067</td><td>3.8783236736864075</td><td>0.112083435</td></tr>\n",
       "<tr><td>387248824234876544</td><td>0.7147348039925946</td><td>47.25206300931765</td><td>9.11861</td><td>3.9408446041799254</td><td>0.2881441</td></tr>\n",
       "<tr><td>387281053668103936</td><td>0.5495253811134138</td><td>47.57717039958105</td><td>8.387774</td><td>3.0242721414173617</td><td>0.37495232</td></tr>\n",
       "<tr><td>387262877366317184</td><td>0.09693714171567966</td><td>47.373832963263176</td><td>9.346837</td><td>1.9767377943486057</td><td>0.39721203</td></tr>\n",
       "<tr><td>393300776752373760</td><td>0.7085133628612212</td><td>48.078576078927</td><td>8.905772</td><td>5.221212848471736</td><td>0.46898556</td></tr>\n",
       "<tr><td>393159004174776192</td><td>2.387539213023324</td><td>47.973568958063176</td><td>9.734503</td><td>2.713535136031612</td><td>0.48820972</td></tr>\n",
       "<tr><td>...</td><td>...</td><td>...</td><td>...</td><td>...</td><td>...</td></tr>\n",
       "<tr><td>387234904242402560</td><td>0.9533526903276744</td><td>47.490884459658865</td><td>9.84671</td><td>0.8637292724389103</td><td>1.6670389</td></tr>\n",
       "<tr><td>393232366513500288</td><td>1.5206361432582216</td><td>47.740127469757724</td><td>9.459486</td><td>1.1400986189438913</td><td>1.7253819</td></tr>\n",
       "<tr><td>393244461141321088</td><td>0.8414243351563562</td><td>47.786435413254985</td><td>9.19496</td><td>0.6139168933937127</td><td>1.7496853</td></tr>\n",
       "<tr><td>393232125995342848</td><td>1.5789685405622853</td><td>47.72727464552025</td><td>7.981288</td><td>2.2976200860598652</td><td>1.7836871</td></tr>\n",
       "<tr><td>393098329174310656</td><td>2.68673376922709</td><td>47.66577487684331</td><td>9.067477</td><td>1.0330704835159013</td><td>1.8732872</td></tr>\n",
       "<tr><td>387021087887751680</td><td>1.8493597742015657</td><td>47.09779401620907</td><td>8.47542</td><td>1.2488672470572701</td><td>1.8934212</td></tr>\n",
       "<tr><td>393364651508085120</td><td>1.4850816700529788</td><td>48.31203741404784</td><td>9.857775</td><td>0.5246092419421674</td><td>1.935895</td></tr>\n",
       "<tr><td>393033423626925824</td><td>1.5989694453744596</td><td>47.4047409892245</td><td>8.275679</td><td>0.8779702295231859</td><td>2.205091</td></tr>\n",
       "<tr><td>387296962226718848</td><td>0.17919923933975287</td><td>47.72403234254053</td><td>9.636537</td><td>0.6102164658525748</td><td>2.7935925</td></tr>\n",
       "<tr><td>387263083524736000</td><td>0.059659651457552816</td><td>47.42418447234008</td><td>8.357033</td><td>0.7588008845935008</td><td>3.3809414</td></tr>\n",
       "</table></div>"
      ],
      "text/plain": [
       "<Table length=44>\n",
       "    source_id               ra          ...      parallax         bp_rp   \n",
       "                           deg          ...        mas             mag    \n",
       "      int64              float64        ...      float64         float32  \n",
       "------------------ -------------------- ... ------------------ -----------\n",
       "387265694864872064  0.34830775880952414 ... 1.1806670135937007  0.07384682\n",
       "393289609837293312   0.9241862552473424 ...  7.549027097652189  0.07444668\n",
       "387205702762203392   1.4478364083048825 ...  2.347040040356511  0.07517624\n",
       "387248819938407424   0.7141248779233184 ... 3.8783236736864075 0.112083435\n",
       "387248824234876544   0.7147348039925946 ... 3.9408446041799254   0.2881441\n",
       "387281053668103936   0.5495253811134138 ... 3.0242721414173617  0.37495232\n",
       "387262877366317184  0.09693714171567966 ... 1.9767377943486057  0.39721203\n",
       "393300776752373760   0.7085133628612212 ...  5.221212848471736  0.46898556\n",
       "393159004174776192    2.387539213023324 ...  2.713535136031612  0.48820972\n",
       "               ...                  ... ...                ...         ...\n",
       "387234904242402560   0.9533526903276744 ... 0.8637292724389103   1.6670389\n",
       "393232366513500288   1.5206361432582216 ... 1.1400986189438913   1.7253819\n",
       "393244461141321088   0.8414243351563562 ... 0.6139168933937127   1.7496853\n",
       "393232125995342848   1.5789685405622853 ... 2.2976200860598652   1.7836871\n",
       "393098329174310656     2.68673376922709 ... 1.0330704835159013   1.8732872\n",
       "387021087887751680   1.8493597742015657 ... 1.2488672470572701   1.8934212\n",
       "393364651508085120   1.4850816700529788 ... 0.5246092419421674    1.935895\n",
       "393033423626925824   1.5989694453744596 ... 0.8779702295231859    2.205091\n",
       "387296962226718848  0.17919923933975287 ... 0.6102164658525748   2.7935925\n",
       "387263083524736000 0.059659651457552816 ... 0.7588008845935008   3.3809414"
      ]
     },
     "execution_count": 5,
     "metadata": {},
     "output_type": "execute_result"
    }
   ],
   "source": [
    "midnightTable = midnightJob.get_results()\n",
    "midnightTable"
   ]
  },
  {
   "cell_type": "code",
   "execution_count": 6,
   "metadata": {},
   "outputs": [],
   "source": [
    "midnightTable.sort('phot_g_mean_mag')"
   ]
  },
  {
   "cell_type": "markdown",
   "metadata": {},
   "source": [
    "## What is the `source_id` and `phot_g_mean_mag` of the brightest object?"
   ]
  },
  {
   "cell_type": "code",
   "execution_count": 7,
   "metadata": {},
   "outputs": [
    {
     "name": "stdout",
     "output_type": "stream",
     "text": [
      "The brightest star at the zenith on Oct 12th 2022 has a source id of 393289609837293312 and a magnitude of 6.791180610656738\n"
     ]
    }
   ],
   "source": [
    "brightStarSource = midnightTable['source_id'][0]\n",
    "brightStarMag = midnightTable['phot_g_mean_mag'][0]\n",
    "print(f'The brightest star at the zenith on Oct 12th 2022 has a source id of {brightStarSource} and a magnitude of {brightStarMag}')"
   ]
  },
  {
   "cell_type": "code",
   "execution_count": null,
   "metadata": {},
   "outputs": [],
   "source": []
  },
  {
   "cell_type": "markdown",
   "metadata": {},
   "source": [
    "## Add a column `distance` to your table that has the distance (in parsecs) for all of the objects"
   ]
  },
  {
   "cell_type": "code",
   "execution_count": 10,
   "metadata": {},
   "outputs": [],
   "source": [
    "def distanceFinder(parallax):\n",
    "    result = 1 / (parallax / 1000)\n",
    "    return result"
   ]
  },
  {
   "cell_type": "code",
   "execution_count": 12,
   "metadata": {},
   "outputs": [
    {
     "data": {
      "text/html": [
       "<div><i>Table length=44</i>\n",
       "<table id=\"table140461917728976\" class=\"table-striped table-bordered table-condensed\">\n",
       "<thead><tr><th>source_id</th><th>ra</th><th>dec</th><th>phot_g_mean_mag</th><th>parallax</th><th>Distance</th><th>bp_rp</th></tr></thead>\n",
       "<thead><tr><th></th><th>deg</th><th>deg</th><th>mag</th><th>mas</th><th></th><th>mag</th></tr></thead>\n",
       "<thead><tr><th>int64</th><th>float64</th><th>float64</th><th>float32</th><th>float64</th><th>float64</th><th>float32</th></tr></thead>\n",
       "<tr><td>393289609837293312</td><td>0.9241862552473424</td><td>48.43686655391979</td><td>6.7911806</td><td>7.549027097652189</td><td>132.46740103913635</td><td>0.07444668</td></tr>\n",
       "<tr><td>387252260207420800</td><td>0.6258579059648612</td><td>47.42276308972577</td><td>7.507746</td><td>8.838562582470374</td><td>113.14056903136172</td><td>0.6523862</td></tr>\n",
       "<tr><td>386987685925706624</td><td>1.795875822269915</td><td>46.75689909330566</td><td>7.634305</td><td>3.7110584958585857</td><td>269.4648982536831</td><td>1.2059174</td></tr>\n",
       "<tr><td>393232125995342848</td><td>1.5789685405622853</td><td>47.72727464552025</td><td>7.981288</td><td>2.2976200860598652</td><td>435.232963912183</td><td>1.7836871</td></tr>\n",
       "<tr><td>393368946475346304</td><td>1.3244609852984932</td><td>48.47712236815464</td><td>8.050094</td><td>2.9077545237532427</td><td>343.90798529623805</td><td>1.1151123</td></tr>\n",
       "<tr><td>393033423626925824</td><td>1.5989694453744596</td><td>47.4047409892245</td><td>8.275679</td><td>0.8779702295231859</td><td>1138.990783939322</td><td>2.205091</td></tr>\n",
       "<tr><td>392996452548763264</td><td>2.527986257042034</td><td>47.30682366556531</td><td>8.284404</td><td>0.6899484623077705</td><td>1449.3836201259949</td><td>1.29217</td></tr>\n",
       "<tr><td>387263083524736000</td><td>0.059659651457552816</td><td>47.42418447234008</td><td>8.357033</td><td>0.7588008845935008</td><td>1317.868785215917</td><td>3.3809414</td></tr>\n",
       "<tr><td>387281053668103936</td><td>0.5495253811134138</td><td>47.57717039958105</td><td>8.387774</td><td>3.0242721414173617</td><td>330.6580734931275</td><td>0.37495232</td></tr>\n",
       "<tr><td>...</td><td>...</td><td>...</td><td>...</td><td>...</td><td>...</td><td>...</td></tr>\n",
       "<tr><td>393062320167067520</td><td>1.9380437890964126</td><td>47.58992657902412</td><td>9.67057</td><td>5.819572675573488</td><td>171.8339224797902</td><td>0.78644943</td></tr>\n",
       "<tr><td>387237932196697600</td><td>0.9114960373487657</td><td>47.66130163597292</td><td>9.673796</td><td>1.3096227294623135</td><td>763.5786837714445</td><td>1.1913395</td></tr>\n",
       "<tr><td>387136257434884864</td><td>0.7137624293103004</td><td>46.73234547368948</td><td>9.676005</td><td>1.4538034691343134</td><td>687.8508830326725</td><td>1.3094006</td></tr>\n",
       "<tr><td>393159004174776192</td><td>2.387539213023324</td><td>47.973568958063176</td><td>9.734503</td><td>2.713535136031612</td><td>368.52295985466475</td><td>0.48820972</td></tr>\n",
       "<tr><td>393007344585952000</td><td>2.5409100578470345</td><td>47.5923179273381</td><td>9.835747</td><td>6.176556960756754</td><td>161.90249784039545</td><td>0.90529823</td></tr>\n",
       "<tr><td>387234904242402560</td><td>0.9533526903276744</td><td>47.490884459658865</td><td>9.84671</td><td>0.8637292724389103</td><td>1157.770185530823</td><td>1.6670389</td></tr>\n",
       "<tr><td>393364651508085120</td><td>1.4850816700529788</td><td>48.31203741404784</td><td>9.857775</td><td>0.5246092419421674</td><td>1906.1806770652345</td><td>1.935895</td></tr>\n",
       "<tr><td>393029609695989888</td><td>1.8957646669216517</td><td>47.31853270493515</td><td>9.972458</td><td>5.230656902143575</td><td>191.18057611276132</td><td>0.64999294</td></tr>\n",
       "<tr><td>393163818835419008</td><td>2.156159629216929</td><td>48.108319248716015</td><td>9.9737</td><td>1.4388261787948722</td><td>695.0109851612355</td><td>1.3646955</td></tr>\n",
       "<tr><td>393222986304987136</td><td>1.5592651083729876</td><td>47.50736396646518</td><td>9.988067</td><td>1.460224299644858</td><td>684.8262970580688</td><td>1.3682957</td></tr>\n",
       "</table></div>"
      ],
      "text/plain": [
       "<Table length=44>\n",
       "    source_id               ra          ...      Distance        bp_rp   \n",
       "                           deg          ...                       mag    \n",
       "      int64              float64        ...      float64        float32  \n",
       "------------------ -------------------- ... ------------------ ----------\n",
       "393289609837293312   0.9241862552473424 ... 132.46740103913635 0.07444668\n",
       "387252260207420800   0.6258579059648612 ... 113.14056903136172  0.6523862\n",
       "386987685925706624    1.795875822269915 ...  269.4648982536831  1.2059174\n",
       "393232125995342848   1.5789685405622853 ...   435.232963912183  1.7836871\n",
       "393368946475346304   1.3244609852984932 ... 343.90798529623805  1.1151123\n",
       "393033423626925824   1.5989694453744596 ...  1138.990783939322   2.205091\n",
       "392996452548763264    2.527986257042034 ... 1449.3836201259949    1.29217\n",
       "387263083524736000 0.059659651457552816 ...  1317.868785215917  3.3809414\n",
       "387281053668103936   0.5495253811134138 ...  330.6580734931275 0.37495232\n",
       "               ...                  ... ...                ...        ...\n",
       "393062320167067520   1.9380437890964126 ...  171.8339224797902 0.78644943\n",
       "387237932196697600   0.9114960373487657 ...  763.5786837714445  1.1913395\n",
       "387136257434884864   0.7137624293103004 ...  687.8508830326725  1.3094006\n",
       "393159004174776192    2.387539213023324 ... 368.52295985466475 0.48820972\n",
       "393007344585952000   2.5409100578470345 ... 161.90249784039545 0.90529823\n",
       "387234904242402560   0.9533526903276744 ...  1157.770185530823  1.6670389\n",
       "393364651508085120   1.4850816700529788 ... 1906.1806770652345   1.935895\n",
       "393029609695989888   1.8957646669216517 ... 191.18057611276132 0.64999294\n",
       "393163818835419008    2.156159629216929 ...  695.0109851612355  1.3646955\n",
       "393222986304987136   1.5592651083729876 ...  684.8262970580688  1.3682957"
      ]
     },
     "execution_count": 12,
     "metadata": {},
     "output_type": "execute_result"
    }
   ],
   "source": [
    "distanceArray = distanceFinder(midnightTable['parallax'])\n",
    "midnightTable.add_column(distanceArray, name='Distance',index=5)\n",
    "midnightTable"
   ]
  },
  {
   "cell_type": "markdown",
   "metadata": {
    "tags": []
   },
   "source": [
    "## What is the `source_id` and `distance` of the nearest object?"
   ]
  },
  {
   "cell_type": "code",
   "execution_count": 15,
   "metadata": {},
   "outputs": [
    {
     "name": "stdout",
     "output_type": "stream",
     "text": [
      "The closest star has a distance of 77.05780874697739pc and a source id of 387170209152367360\n"
     ]
    }
   ],
   "source": [
    "midnightTable.sort('Distance')\n",
    "closest = midnightTable['Distance'][0]\n",
    "sourceClose = midnightTable['source_id'][0]\n",
    "print(f'The closest star has a distance of {closest}pc and a source id of {sourceClose}')"
   ]
  },
  {
   "cell_type": "code",
   "execution_count": null,
   "metadata": {
    "tags": []
   },
   "outputs": [],
   "source": []
  },
  {
   "cell_type": "markdown",
   "metadata": {
    "tags": []
   },
   "source": [
    "## What is the `source_id`, `distance` and color index of the bluest object?"
   ]
  },
  {
   "cell_type": "code",
   "execution_count": 16,
   "metadata": {},
   "outputs": [
    {
     "name": "stdout",
     "output_type": "stream",
     "text": [
      "The bluest star has an id 387265694864872064 and at a distance of 846.9788589724477pc\n"
     ]
    }
   ],
   "source": [
    "midnightTable.sort('bp_rp')\n",
    "blueClose = midnightTable['Distance'][0]\n",
    "blueSource = midnightTable['source_id'][0]\n",
    "print(f'The bluest star has an id {blueSource} and at a distance of {blueClose}pc')"
   ]
  },
  {
   "cell_type": "code",
   "execution_count": null,
   "metadata": {
    "tags": []
   },
   "outputs": [],
   "source": []
  },
  {
   "cell_type": "markdown",
   "metadata": {
    "tags": []
   },
   "source": [
    "## What is the `source_id`, `distance` and color index of the reddest object?"
   ]
  },
  {
   "cell_type": "code",
   "execution_count": 17,
   "metadata": {},
   "outputs": [
    {
     "name": "stdout",
     "output_type": "stream",
     "text": [
      "The reddest star has an id 387263083524736000 and at a distance of 1317.868785215917pc\n"
     ]
    }
   ],
   "source": [
    "midnightTable.sort('bp_rp', reverse=True)\n",
    "redClose = midnightTable['Distance'][0]\n",
    "redSource = midnightTable['source_id'][0]\n",
    "print(f'The reddest star has an id {redSource} and at a distance of {redClose}pc')"
   ]
  },
  {
   "cell_type": "code",
   "execution_count": null,
   "metadata": {
    "tags": []
   },
   "outputs": [],
   "source": []
  },
  {
   "cell_type": "markdown",
   "metadata": {},
   "source": [
    "### Due Mon Oct 17 - 1 pm\n",
    "- `Save notebook as .html: File -> Download as -> HTML`\n",
    "- `Upload .html to Canvas`"
   ]
  },
  {
   "cell_type": "code",
   "execution_count": null,
   "metadata": {
    "collapsed": false,
    "jupyter": {
     "outputs_hidden": false
    }
   },
   "outputs": [],
   "source": []
  }
 ],
 "metadata": {
  "anaconda-cloud": {},
  "kernelspec": {
   "display_name": "Python 3 (ipykernel)",
   "language": "python",
   "name": "python3"
  },
  "language_info": {
   "codemirror_mode": {
    "name": "ipython",
    "version": 3
   },
   "file_extension": ".py",
   "mimetype": "text/x-python",
   "name": "python",
   "nbconvert_exporter": "python",
   "pygments_lexer": "ipython3",
   "version": "3.9.13"
  }
 },
 "nbformat": 4,
 "nbformat_minor": 4
}
