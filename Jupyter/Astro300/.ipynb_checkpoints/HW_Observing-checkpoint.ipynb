{
 "cells": [
  {
   "cell_type": "markdown",
   "metadata": {},
   "source": [
    "# Observing with `astroplan`"
   ]
  },
  {
   "cell_type": "markdown",
   "metadata": {},
   "source": [
    "## I have given you:\n",
    "\n",
    "* Three locations\n",
    "* An observing date\n",
    "* Some target objects"
   ]
  },
  {
   "cell_type": "code",
   "execution_count": 1,
   "metadata": {
    "collapsed": false,
    "jupyter": {
     "outputs_hidden": false
    }
   },
   "outputs": [],
   "source": [
    "import matplotlib.pyplot as plt\n",
    "\n",
    "import numpy as np\n",
    "import astropy.units as u\n",
    "from astropy.time import Time\n",
    "import pytz\n",
    "\n",
    "from astroplan.plots import plot_airmass\n",
    "from astroplan import Observer, FixedTarget, time_grid_from_range\n",
    "\n",
    "import warnings\n",
    "warnings.filterwarnings(\"ignore\", category = UserWarning)\n",
    "\n",
    "from astroplan import download_IERS_A\n",
    "download_IERS_A()"
   ]
  },
  {
   "cell_type": "markdown",
   "metadata": {},
   "source": [
    "# Set up the locations\n",
    "\n",
    "* [Google](https://www.google.com/), [Google Maps](https://www.google.com/maps), and [Google Earth](https://www.google.com/earth/) are good resources to find Latitude, Longitude, and Timezones"
   ]
  },
  {
   "cell_type": "markdown",
   "metadata": {},
   "source": [
    "1. Herwighamna Meteorological Station, Bjørnøya, Svalbard & Jan Mayen\n",
    "2. Ranui Coastwatch Station, Ranui Cove, New Zealand\n",
    "3. Wideawake Airfield, Ascension Island"
   ]
  },
  {
   "cell_type": "code",
   "execution_count": 2,
   "metadata": {
    "collapsed": false,
    "jupyter": {
     "outputs_hidden": false
    }
   },
   "outputs": [],
   "source": [
    "Svalbard = Observer(longitude = 19.039806 * u.deg,\n",
    "                    latitude = 74.421778 * u.deg,\n",
    "                    timezone = 'Etc/GMT+1',\n",
    "                    name = \"Svalbard Weather Station\")"
   ]
  },
  {
   "cell_type": "code",
   "execution_count": 3,
   "metadata": {
    "collapsed": false,
    "jupyter": {
     "outputs_hidden": false
    }
   },
   "outputs": [],
   "source": [
    "Ranui = Observer(longitude = 166.271454 * u.deg,\n",
    "                 latitude = -50.540243 * u.deg,\n",
    "                 timezone = 'Etc/GMT+12',\n",
    "                 name = \"Ranui Coastwatch Station\")"
   ]
  },
  {
   "cell_type": "code",
   "execution_count": 4,
   "metadata": {
    "collapsed": false,
    "jupyter": {
     "outputs_hidden": false
    }
   },
   "outputs": [],
   "source": [
    "Wideawake = Observer(longitude = -14.402872 * u.deg,\n",
    "                     latitude = -7.966067 * u.deg,\n",
    "                     timezone = 'Etc/GMT+0',\n",
    "                     name = \"Wideawake Airfield\")"
   ]
  },
  {
   "cell_type": "markdown",
   "metadata": {},
   "source": [
    "# Determine the UTC time for **Local Noon** at each of the locations\n",
    "\n",
    "# Observing Date: **Nov 26, 2022**\n",
    "\n",
    "* You will have to experiment with the `which =` parameter\n",
    "* Make sure local noon occurs on the observing date"
   ]
  },
  {
   "cell_type": "code",
   "execution_count": 5,
   "metadata": {
    "collapsed": false,
    "jupyter": {
     "outputs_hidden": false
    }
   },
   "outputs": [],
   "source": [
    "myDate = Time(\"2022-11-26\")"
   ]
  },
  {
   "cell_type": "code",
   "execution_count": 6,
   "metadata": {
    "collapsed": false,
    "jupyter": {
     "outputs_hidden": false
    }
   },
   "outputs": [],
   "source": [
    "svalbardNoon = Svalbard.noon(myDate, which = \"nearest\")"
   ]
  },
  {
   "cell_type": "code",
   "execution_count": 7,
   "metadata": {},
   "outputs": [
    {
     "name": "stdout",
     "output_type": "stream",
     "text": [
      "2022-11-26 09:30:36.800203-01:00\n"
     ]
    }
   ],
   "source": [
    "print(svalbardNoon.to_datetime(Svalbard.timezone))"
   ]
  },
  {
   "cell_type": "code",
   "execution_count": 8,
   "metadata": {
    "collapsed": false,
    "jupyter": {
     "outputs_hidden": false
    }
   },
   "outputs": [
    {
     "name": "stdout",
     "output_type": "stream",
     "text": [
      "2022-11-25 12:42:08.086750-12:00\n"
     ]
    }
   ],
   "source": [
    "ranuiNoon = Ranui.noon(myDate, which = \"nearest\")\n",
    "print(ranuiNoon.to_datetime(Ranui.timezone))"
   ]
  },
  {
   "cell_type": "code",
   "execution_count": 9,
   "metadata": {
    "collapsed": false,
    "jupyter": {
     "outputs_hidden": false
    }
   },
   "outputs": [
    {
     "name": "stdout",
     "output_type": "stream",
     "text": [
      "2022-11-25 12:44:32.504635+00:00\n"
     ]
    }
   ],
   "source": [
    "wideawakeNoon = Wideawake.noon(myDate, which = \"nearest\")\n",
    "print(wideawakeNoon.to_datetime(Wideawake.timezone))"
   ]
  },
  {
   "cell_type": "markdown",
   "metadata": {},
   "source": [
    "# Determine the length of the observing run at each location\n",
    "\n",
    "* Length of run is defined by **Astronomical Twilight**\n",
    "* If your length is negative (or > 24 hr), you have to use a different `which =` parameter above"
   ]
  },
  {
   "cell_type": "code",
   "execution_count": 10,
   "metadata": {
    "collapsed": false,
    "jupyter": {
     "outputs_hidden": false
    }
   },
   "outputs": [],
   "source": [
    "svalbardTime = Svalbard.tonight(svalbardNoon, horizon = -18 * u.deg)\n",
    "ranuiTime = Ranui.tonight(ranuiNoon, horizon = -18 * u.deg)\n",
    "wideTime = Wideawake.tonight(wideawakeNoon, horizon = -18 * u.deg)"
   ]
  },
  {
   "cell_type": "code",
   "execution_count": 11,
   "metadata": {
    "collapsed": false,
    "jupyter": {
     "outputs_hidden": false
    }
   },
   "outputs": [
    {
     "name": "stdout",
     "output_type": "stream",
     "text": [
      "Start observations in Svalbard on the 26th of November at 2022-11-26 15:57:42.251 UTC\n",
      "End observations in Svalbard on the 26th of November at 2022-11-27 05:06:17.530 UTC\n"
     ]
    }
   ],
   "source": [
    "print(f'Start observations in Svalbard on the 26th of November at {svalbardTime[0].iso} UTC')\n",
    "print(f'End observations in Svalbard on the 26th of November at {svalbardTime[1].iso} UTC')"
   ]
  },
  {
   "cell_type": "code",
   "execution_count": 12,
   "metadata": {
    "collapsed": false,
    "jupyter": {
     "outputs_hidden": false
    }
   },
   "outputs": [
    {
     "name": "stdout",
     "output_type": "stream",
     "text": [
      "Start observations in Ranui on the 26th of November at 2022-11-26 12:04:59.587 UTC\n",
      "End observations in Ranui on the 26th of November at 2022-11-26 13:19:00.513 UTC\n"
     ]
    }
   ],
   "source": [
    "print(f'Start observations in Ranui on the 26th of November at {ranuiTime[0].iso} UTC')\n",
    "print(f'End observations in Ranui on the 26th of November at {ranuiTime[1].iso} UTC')"
   ]
  },
  {
   "cell_type": "code",
   "execution_count": 13,
   "metadata": {
    "collapsed": false,
    "jupyter": {
     "outputs_hidden": false
    }
   },
   "outputs": [
    {
     "name": "stdout",
     "output_type": "stream",
     "text": [
      "Start observations in Wideawake Airfield on the 26th of November at 2022-11-25 20:15:48.033 UTC\n",
      "End observations in Wideawake Airfield on the 26th of November at 2022-11-26 05:13:34.547 UTC\n"
     ]
    }
   ],
   "source": [
    "print(f'Start observations in Wideawake Airfield on the 26th of November at {wideTime[0].iso} UTC')\n",
    "print(f'End observations in Wideawake Airfield on the 26th of November at {wideTime[1].iso} UTC')"
   ]
  },
  {
   "cell_type": "markdown",
   "metadata": {},
   "source": [
    "---\n",
    "# Set up the Target list"
   ]
  },
  {
   "cell_type": "markdown",
   "metadata": {},
   "source": [
    "- NGC 6720\n",
    "- NGC 7191\n",
    "- NGC 2068\n",
    "- NGC 2736\n",
    "- NGC 3242"
   ]
  },
  {
   "cell_type": "code",
   "execution_count": 14,
   "metadata": {
    "collapsed": false,
    "jupyter": {
     "outputs_hidden": false
    }
   },
   "outputs": [],
   "source": [
    "ngc6720 = FixedTarget.from_name('ngc6720')"
   ]
  },
  {
   "cell_type": "code",
   "execution_count": 15,
   "metadata": {},
   "outputs": [],
   "source": [
    "ngc7191 = FixedTarget.from_name('ngc7191')"
   ]
  },
  {
   "cell_type": "code",
   "execution_count": 16,
   "metadata": {
    "collapsed": false,
    "jupyter": {
     "outputs_hidden": false
    }
   },
   "outputs": [],
   "source": [
    "ngc2068 = FixedTarget.from_name('ngc2068')"
   ]
  },
  {
   "cell_type": "code",
   "execution_count": 17,
   "metadata": {
    "collapsed": false,
    "jupyter": {
     "outputs_hidden": false
    }
   },
   "outputs": [],
   "source": [
    "ngc2736 = FixedTarget.from_name('ngc2736')"
   ]
  },
  {
   "cell_type": "code",
   "execution_count": 18,
   "metadata": {},
   "outputs": [],
   "source": [
    "ngc3242 = FixedTarget.from_name('ngc3242')"
   ]
  },
  {
   "cell_type": "code",
   "execution_count": 19,
   "metadata": {},
   "outputs": [
    {
     "data": {
      "text/plain": [
       "[<FixedTarget \"ngc6720\" at SkyCoord (ICRS): (ra, dec) in deg (283.39623652, 33.02913425)>,\n",
       " <FixedTarget \"ngc7191\" at SkyCoord (ICRS): (ra, dec) in deg (331.7157379, -64.63459682)>,\n",
       " <FixedTarget \"ngc2068\" at SkyCoord (ICRS): (ra, dec) in deg (86.69083333, 0.07916667)>,\n",
       " <FixedTarget \"ngc2736\" at SkyCoord (ICRS): (ra, dec) in deg (135.05, -45.95)>,\n",
       " <FixedTarget \"ngc3242\" at SkyCoord (ICRS): (ra, dec) in deg (156.19222313, -18.64230468)>]"
      ]
     },
     "execution_count": 19,
     "metadata": {},
     "output_type": "execute_result"
    }
   ],
   "source": [
    "targetList = [ngc6720, ngc7191, ngc2068, ngc2736, ngc3242]\n",
    "targetList"
   ]
  },
  {
   "cell_type": "markdown",
   "metadata": {},
   "source": [
    "----\n",
    "# What can you see at each location?"
   ]
  },
  {
   "cell_type": "markdown",
   "metadata": {},
   "source": [
    "## For each location, plot airmass vs. time for all of the targets over the observing night"
   ]
  },
  {
   "cell_type": "code",
   "execution_count": 20,
   "metadata": {
    "collapsed": false,
    "jupyter": {
     "outputs_hidden": false
    }
   },
   "outputs": [
    {
     "data": {
      "image/png": "[encoded data removed]",
      "text/plain": [
       "<Figure size 864x432 with 1 Axes>"
      ]
     },
     "metadata": {
      "needs_background": "light"
     },
     "output_type": "display_data"
    }
   ],
   "source": [
    "#Svalbard Airmass plots\n",
    "\n",
    "sTimeGrid = time_grid_from_range(svalbardTime, time_resolution = 0.01 * u.h)\n",
    "\n",
    "fig, ax = plt.subplots(\n",
    "    figsize = (12, 6),\n",
    "    constrained_layout = True\n",
    ")\n",
    "\n",
    "#ax = plot_airmass(ngc2736, Svalbard, sTimeGrid)\n",
    "for observeObject in targetList:\n",
    "   ax = plot_airmass(observeObject, Svalbard, sTimeGrid)\n",
    "\n",
    "ax.legend(loc = 0, shadow=True);"
   ]
  },
  {
   "cell_type": "code",
   "execution_count": 21,
   "metadata": {
    "collapsed": false,
    "jupyter": {
     "outputs_hidden": false
    }
   },
   "outputs": [
    {
     "data": {
      "image/png": "[encoded data removed]",
      "text/plain": [
       "<Figure size 864x432 with 1 Axes>"
      ]
     },
     "metadata": {
      "needs_background": "light"
     },
     "output_type": "display_data"
    }
   ],
   "source": [
    "rTimeGrid = time_grid_from_range(ranuiTime, time_resolution = 0.01 * u.h)\n",
    "\n",
    "fig, ax = plt.subplots(\n",
    "    figsize = (12, 6),\n",
    "    constrained_layout = True\n",
    ")\n",
    "\n",
    "#ax = plot_airmass(ngc2736, Svalbard, sTimeGrid)\n",
    "for observeObject in targetList:\n",
    "   ax = plot_airmass(observeObject, Ranui, rTimeGrid)\n",
    "\n",
    "ax.legend(loc = 0, shadow=True);"
   ]
  },
  {
   "cell_type": "code",
   "execution_count": 22,
   "metadata": {
    "collapsed": false,
    "jupyter": {
     "outputs_hidden": false
    }
   },
   "outputs": [
    {
     "data": {
      "image/png": "[encoded data removed]",
      "text/plain": [
       "<Figure size 864x432 with 1 Axes>"
      ]
     },
     "metadata": {
      "needs_background": "light"
     },
     "output_type": "display_data"
    }
   ],
   "source": [
    "wTimeGrid = time_grid_from_range(wideTime, time_resolution = 0.01 * u.h)\n",
    "\n",
    "fig, ax = plt.subplots(\n",
    "    figsize = (12, 6),\n",
    "    constrained_layout = True\n",
    ")\n",
    "\n",
    "#ax = plot_airmass(ngc2736, Svalbard, sTimeGrid)\n",
    "for observeObject in targetList:\n",
    "   ax = plot_airmass(observeObject, Wideawake, wTimeGrid)\n",
    "\n",
    "ax.legend(loc = 0, shadow=True);"
   ]
  },
  {
   "cell_type": "markdown",
   "metadata": {
    "jp-MarkdownHeadingCollapsed": true,
    "jupyter": {
     "outputs_hidden": false
    },
    "tags": []
   },
   "source": [
    "### Due Mon Nov 14 - 1 pm\n",
    "\n",
    "- `File -> Download as -> HTML (.html)`\n",
    "- `upload your .html file to the class Canvas page`"
   ]
  },
  {
   "cell_type": "markdown",
   "metadata": {},
   "source": [
    "# `astroplan` - Constraints\n",
    "\n",
    "## Add all of the following cells to the bottom of your Observing assignment.\n",
    "\n",
    "- Re-run all of the cells of your Observing assignment first.\n",
    "- And then run the cells below."
   ]
  },
  {
   "cell_type": "code",
   "execution_count": 23,
   "metadata": {
    "collapsed": false,
    "jupyter": {
     "outputs_hidden": false
    }
   },
   "outputs": [],
   "source": [
    "from astropy.coordinates import SkyCoord\n",
    "from astroplan import observability_table\n",
    "from astroplan import AltitudeConstraint, MoonSeparationConstraint, SunSeparationConstraint\n",
    "from astropy.table import QTable"
   ]
  },
  {
   "cell_type": "markdown",
   "metadata": {},
   "source": [
    "---\n",
    "\n",
    "# Targets\n",
    "\n",
    "* Setup the targets from the data file `./Data/BrightStars_25.csv` and create a target list.\n",
    "* The columns are:\n",
    "  - Name\n",
    "  - RA (hours)\n",
    "  - DEC (deg)"
   ]
  },
  {
   "cell_type": "code",
   "execution_count": 24,
   "metadata": {
    "collapsed": false,
    "jupyter": {
     "outputs_hidden": false
    }
   },
   "outputs": [],
   "source": [
    "targetTable = QTable.read('./Data/BrightStars_25.csv', format='ascii.csv')\n",
    "targetTable['RA'].unit = u.hourangle\n",
    "targetTable['DEC'].unit = u.deg"
   ]
  },
  {
   "cell_type": "code",
   "execution_count": 25,
   "metadata": {},
   "outputs": [],
   "source": [
    "targetList = [FixedTarget(coord = SkyCoord(ra = RA, dec = DEC), name = targetName)\n",
    "           for targetName, RA, DEC in targetTable]"
   ]
  },
  {
   "cell_type": "code",
   "execution_count": null,
   "metadata": {},
   "outputs": [],
   "source": []
  },
  {
   "cell_type": "markdown",
   "metadata": {},
   "source": [
    "----\n",
    "## For each of the 3 locations create an `observability_table` with the following constraints\n",
    "\n",
    "\n",
    "- #### Use the new target list\n",
    "* Target > 6 hours from Sun\n",
    "* Target > 60 degrees from Moon\n",
    "* Target Altitude > 60 degrees"
   ]
  },
  {
   "cell_type": "code",
   "execution_count": 26,
   "metadata": {},
   "outputs": [],
   "source": [
    "constraints = [SunSeparationConstraint(6 * u.hourangle), MoonSeparationConstraint(60 * u.deg), AltitudeConstraint(min=60*u.deg,max=None)]"
   ]
  },
  {
   "cell_type": "code",
   "execution_count": 27,
   "metadata": {},
   "outputs": [
    {
     "data": {
      "text/html": [
       "<div><i>Table length=25</i>\n",
       "<table id=\"table139835252938064\" class=\"table-striped table-bordered table-condensed\">\n",
       "<thead><tr><th>target name</th><th>ever observable</th><th>always observable</th><th>fraction of time observable</th></tr></thead>\n",
       "<thead><tr><th>str15</th><th>bool</th><th>bool</th><th>float64</th></tr></thead>\n",
       "<tr><td>Capella</td><td>True</td><td>False</td><td>0.2222222222222222</td></tr>\n",
       "<tr><td>Deneb</td><td>True</td><td>False</td><td>0.037037037037037035</td></tr>\n",
       "<tr><td>Bellatrix</td><td>False</td><td>False</td><td>0.0</td></tr>\n",
       "<tr><td>Altair</td><td>False</td><td>False</td><td>0.0</td></tr>\n",
       "<tr><td>Canopus</td><td>False</td><td>False</td><td>0.0</td></tr>\n",
       "<tr><td>Arcturus</td><td>False</td><td>False</td><td>0.0</td></tr>\n",
       "<tr><td>RigelKentaurusA</td><td>False</td><td>False</td><td>0.0</td></tr>\n",
       "<tr><td>Vega</td><td>False</td><td>False</td><td>0.0</td></tr>\n",
       "<tr><td>Rigel</td><td>False</td><td>False</td><td>0.0</td></tr>\n",
       "<tr><td>Procyon</td><td>False</td><td>False</td><td>0.0</td></tr>\n",
       "<tr><td>...</td><td>...</td><td>...</td><td>...</td></tr>\n",
       "<tr><td>Aldebaran</td><td>False</td><td>False</td><td>0.0</td></tr>\n",
       "<tr><td>Spica</td><td>False</td><td>False</td><td>0.0</td></tr>\n",
       "<tr><td>Antares</td><td>False</td><td>False</td><td>0.0</td></tr>\n",
       "<tr><td>Pollux</td><td>False</td><td>False</td><td>0.0</td></tr>\n",
       "<tr><td>Fomalhaut</td><td>False</td><td>False</td><td>0.0</td></tr>\n",
       "<tr><td>RigelKentaurusB</td><td>False</td><td>False</td><td>0.0</td></tr>\n",
       "<tr><td>Regulus</td><td>False</td><td>False</td><td>0.0</td></tr>\n",
       "<tr><td>Adhara</td><td>False</td><td>False</td><td>0.0</td></tr>\n",
       "<tr><td>Castor</td><td>False</td><td>False</td><td>0.0</td></tr>\n",
       "<tr><td>Sirius</td><td>False</td><td>False</td><td>0.0</td></tr>\n",
       "</table></div>"
      ],
      "text/plain": [
       "<Table length=25>\n",
       "  target name   ever observable always observable fraction of time observable\n",
       "     str15            bool             bool                 float64          \n",
       "--------------- --------------- ----------------- ---------------------------\n",
       "        Capella            True             False          0.2222222222222222\n",
       "          Deneb            True             False        0.037037037037037035\n",
       "      Bellatrix           False             False                         0.0\n",
       "         Altair           False             False                         0.0\n",
       "        Canopus           False             False                         0.0\n",
       "       Arcturus           False             False                         0.0\n",
       "RigelKentaurusA           False             False                         0.0\n",
       "           Vega           False             False                         0.0\n",
       "          Rigel           False             False                         0.0\n",
       "        Procyon           False             False                         0.0\n",
       "            ...             ...               ...                         ...\n",
       "      Aldebaran           False             False                         0.0\n",
       "          Spica           False             False                         0.0\n",
       "        Antares           False             False                         0.0\n",
       "         Pollux           False             False                         0.0\n",
       "      Fomalhaut           False             False                         0.0\n",
       "RigelKentaurusB           False             False                         0.0\n",
       "        Regulus           False             False                         0.0\n",
       "         Adhara           False             False                         0.0\n",
       "         Castor           False             False                         0.0\n",
       "         Sirius           False             False                         0.0"
      ]
     },
     "execution_count": 27,
     "metadata": {},
     "output_type": "execute_result"
    }
   ],
   "source": [
    "observingTableSval = observability_table(constraints, Svalbard, targetList, time_range = svalbardTime)\n",
    "observingTableSval.sort('fraction of time observable', reverse = True)\n",
    "observingTableSval"
   ]
  },
  {
   "cell_type": "code",
   "execution_count": 28,
   "metadata": {},
   "outputs": [
    {
     "data": {
      "text/html": [
       "<div><i>Table length=25</i>\n",
       "<table id=\"table139835254324192\" class=\"table-striped table-bordered table-condensed\">\n",
       "<thead><tr><th>target name</th><th>ever observable</th><th>always observable</th><th>fraction of time observable</th></tr></thead>\n",
       "<thead><tr><th>str15</th><th>bool</th><th>bool</th><th>float64</th></tr></thead>\n",
       "<tr><td>Canopus</td><td>True</td><td>True</td><td>1.0</td></tr>\n",
       "<tr><td>Achernar</td><td>True</td><td>True</td><td>1.0</td></tr>\n",
       "<tr><td>Bellatrix</td><td>False</td><td>False</td><td>0.0</td></tr>\n",
       "<tr><td>Altair</td><td>False</td><td>False</td><td>0.0</td></tr>\n",
       "<tr><td>Arcturus</td><td>False</td><td>False</td><td>0.0</td></tr>\n",
       "<tr><td>RigelKentaurusA</td><td>False</td><td>False</td><td>0.0</td></tr>\n",
       "<tr><td>Vega</td><td>False</td><td>False</td><td>0.0</td></tr>\n",
       "<tr><td>Capella</td><td>False</td><td>False</td><td>0.0</td></tr>\n",
       "<tr><td>Rigel</td><td>False</td><td>False</td><td>0.0</td></tr>\n",
       "<tr><td>Procyon</td><td>False</td><td>False</td><td>0.0</td></tr>\n",
       "<tr><td>...</td><td>...</td><td>...</td><td>...</td></tr>\n",
       "<tr><td>Spica</td><td>False</td><td>False</td><td>0.0</td></tr>\n",
       "<tr><td>Antares</td><td>False</td><td>False</td><td>0.0</td></tr>\n",
       "<tr><td>Pollux</td><td>False</td><td>False</td><td>0.0</td></tr>\n",
       "<tr><td>Fomalhaut</td><td>False</td><td>False</td><td>0.0</td></tr>\n",
       "<tr><td>Deneb</td><td>False</td><td>False</td><td>0.0</td></tr>\n",
       "<tr><td>RigelKentaurusB</td><td>False</td><td>False</td><td>0.0</td></tr>\n",
       "<tr><td>Regulus</td><td>False</td><td>False</td><td>0.0</td></tr>\n",
       "<tr><td>Adhara</td><td>False</td><td>False</td><td>0.0</td></tr>\n",
       "<tr><td>Castor</td><td>False</td><td>False</td><td>0.0</td></tr>\n",
       "<tr><td>Sirius</td><td>False</td><td>False</td><td>0.0</td></tr>\n",
       "</table></div>"
      ],
      "text/plain": [
       "<Table length=25>\n",
       "  target name   ever observable always observable fraction of time observable\n",
       "     str15            bool             bool                 float64          \n",
       "--------------- --------------- ----------------- ---------------------------\n",
       "        Canopus            True              True                         1.0\n",
       "       Achernar            True              True                         1.0\n",
       "      Bellatrix           False             False                         0.0\n",
       "         Altair           False             False                         0.0\n",
       "       Arcturus           False             False                         0.0\n",
       "RigelKentaurusA           False             False                         0.0\n",
       "           Vega           False             False                         0.0\n",
       "        Capella           False             False                         0.0\n",
       "          Rigel           False             False                         0.0\n",
       "        Procyon           False             False                         0.0\n",
       "            ...             ...               ...                         ...\n",
       "          Spica           False             False                         0.0\n",
       "        Antares           False             False                         0.0\n",
       "         Pollux           False             False                         0.0\n",
       "      Fomalhaut           False             False                         0.0\n",
       "          Deneb           False             False                         0.0\n",
       "RigelKentaurusB           False             False                         0.0\n",
       "        Regulus           False             False                         0.0\n",
       "         Adhara           False             False                         0.0\n",
       "         Castor           False             False                         0.0\n",
       "         Sirius           False             False                         0.0"
      ]
     },
     "execution_count": 28,
     "metadata": {},
     "output_type": "execute_result"
    }
   ],
   "source": [
    "observingTableRanui = observability_table(constraints, Ranui, targetList, time_range = ranuiTime)\n",
    "observingTableRanui.sort('fraction of time observable', reverse = True)\n",
    "observingTableRanui"
   ]
  },
  {
   "cell_type": "code",
   "execution_count": 29,
   "metadata": {},
   "outputs": [
    {
     "data": {
      "text/html": [
       "<div><i>Table length=25</i>\n",
       "<table id=\"table139835252838064\" class=\"table-striped table-bordered table-condensed\">\n",
       "<thead><tr><th>target name</th><th>ever observable</th><th>always observable</th><th>fraction of time observable</th></tr></thead>\n",
       "<thead><tr><th>str15</th><th>bool</th><th>bool</th><th>float64</th></tr></thead>\n",
       "<tr><td>Rigel</td><td>True</td><td>False</td><td>0.4444444444444444</td></tr>\n",
       "<tr><td>Bellatrix</td><td>True</td><td>False</td><td>0.3888888888888889</td></tr>\n",
       "<tr><td>Betelgeuse</td><td>True</td><td>False</td><td>0.3888888888888889</td></tr>\n",
       "<tr><td>Sirius</td><td>True</td><td>False</td><td>0.3888888888888889</td></tr>\n",
       "<tr><td>Adhara</td><td>True</td><td>False</td><td>0.3333333333333333</td></tr>\n",
       "<tr><td>Aldebaran</td><td>True</td><td>False</td><td>0.2777777777777778</td></tr>\n",
       "<tr><td>Procyon</td><td>True</td><td>False</td><td>0.2777777777777778</td></tr>\n",
       "<tr><td>Fomalhaut</td><td>True</td><td>False</td><td>0.1111111111111111</td></tr>\n",
       "<tr><td>Regulus</td><td>False</td><td>False</td><td>0.0</td></tr>\n",
       "<tr><td>Achernar</td><td>False</td><td>False</td><td>0.0</td></tr>\n",
       "<tr><td>...</td><td>...</td><td>...</td><td>...</td></tr>\n",
       "<tr><td>Castor</td><td>False</td><td>False</td><td>0.0</td></tr>\n",
       "<tr><td>Hadar</td><td>False</td><td>False</td><td>0.0</td></tr>\n",
       "<tr><td>RigelKentaurusB</td><td>False</td><td>False</td><td>0.0</td></tr>\n",
       "<tr><td>Altair</td><td>False</td><td>False</td><td>0.0</td></tr>\n",
       "<tr><td>Shaula</td><td>False</td><td>False</td><td>0.0</td></tr>\n",
       "<tr><td>Spica</td><td>False</td><td>False</td><td>0.0</td></tr>\n",
       "<tr><td>Antares</td><td>False</td><td>False</td><td>0.0</td></tr>\n",
       "<tr><td>Pollux</td><td>False</td><td>False</td><td>0.0</td></tr>\n",
       "<tr><td>Deneb</td><td>False</td><td>False</td><td>0.0</td></tr>\n",
       "<tr><td>Acrux</td><td>False</td><td>False</td><td>0.0</td></tr>\n",
       "</table></div>"
      ],
      "text/plain": [
       "<Table length=25>\n",
       "  target name   ever observable always observable fraction of time observable\n",
       "     str15            bool             bool                 float64          \n",
       "--------------- --------------- ----------------- ---------------------------\n",
       "          Rigel            True             False          0.4444444444444444\n",
       "      Bellatrix            True             False          0.3888888888888889\n",
       "     Betelgeuse            True             False          0.3888888888888889\n",
       "         Sirius            True             False          0.3888888888888889\n",
       "         Adhara            True             False          0.3333333333333333\n",
       "      Aldebaran            True             False          0.2777777777777778\n",
       "        Procyon            True             False          0.2777777777777778\n",
       "      Fomalhaut            True             False          0.1111111111111111\n",
       "        Regulus           False             False                         0.0\n",
       "       Achernar           False             False                         0.0\n",
       "            ...             ...               ...                         ...\n",
       "         Castor           False             False                         0.0\n",
       "          Hadar           False             False                         0.0\n",
       "RigelKentaurusB           False             False                         0.0\n",
       "         Altair           False             False                         0.0\n",
       "         Shaula           False             False                         0.0\n",
       "          Spica           False             False                         0.0\n",
       "        Antares           False             False                         0.0\n",
       "         Pollux           False             False                         0.0\n",
       "          Deneb           False             False                         0.0\n",
       "          Acrux           False             False                         0.0"
      ]
     },
     "execution_count": 29,
     "metadata": {},
     "output_type": "execute_result"
    }
   ],
   "source": [
    "observingTableWide = observability_table(constraints, Wideawake, targetList, time_range = wideTime)\n",
    "observingTableWide.sort('fraction of time observable', reverse = True)\n",
    "observingTableWide"
   ]
  },
  {
   "cell_type": "code",
   "execution_count": null,
   "metadata": {},
   "outputs": [],
   "source": []
  },
  {
   "cell_type": "code",
   "execution_count": null,
   "metadata": {},
   "outputs": [],
   "source": []
  },
  {
   "cell_type": "markdown",
   "metadata": {},
   "source": [
    "---\n",
    "## For each Location create a summary paragraph:\n",
    "\n",
    "- #### If there is more than one target with the same \"longest observing time\" - just pick one.\n",
    "- Use `f-string` formatting to make your output look nice\n",
    "- All floats should be printed to one decimal place\n",
    "- Replace the CAP values with data. **DO NOT HARDCODE!!** - use variables."
   ]
  },
  {
   "cell_type": "raw",
   "metadata": {},
   "source": [
    "On DATE at LOCATION you can observe NUMBER targets over the observing night. The observing night at LOCATION is NUMBER hours long. The target with the longest time for observation is TARGET_NAME with a total of NUMBER hours of observing."
   ]
  },
  {
   "cell_type": "markdown",
   "metadata": {},
   "source": [
    "### Location 1"
   ]
  },
  {
   "cell_type": "code",
   "execution_count": 30,
   "metadata": {},
   "outputs": [],
   "source": [
    "longestObsSval = observingTableSval['target name'][0]\n",
    "longestObsRanui = observingTableRanui['target name'][0]\n",
    "longestObsWide = observingTableWide['target name'][0]\n",
    "\n",
    "svalStart = Time(svalbardTime[0].iso)\n",
    "svalEnd = Time(svalbardTime[1].iso)\n",
    "svalTotal = (svalEnd - svalStart).to(u.h)\n",
    "\n",
    "ranuiStart = Time(ranuiTime[0].iso)\n",
    "ranuiEnd = Time(ranuiTime[1].iso)\n",
    "ranuiTotal = (ranuiEnd - ranuiStart).to(u.h)\n",
    "\n",
    "wideStart = Time(wideTime[0].iso)\n",
    "wideEnd = Time(wideTime[1].iso)\n",
    "wideTotal = (wideEnd - wideStart).to(u.h)\n",
    "\n",
    "longestSvalTime = observingTableSval['fraction of time observable'][0] * svalTotal\n",
    "longestRanuiTime = observingTableRanui['fraction of time observable'][0] * ranuiTotal\n",
    "longestWideTime = observingTableWide['fraction of time observable'][0] * wideTotal"
   ]
  },
  {
   "cell_type": "code",
   "execution_count": 31,
   "metadata": {},
   "outputs": [
    {
     "name": "stdout",
     "output_type": "stream",
     "text": [
      "On 2022-11-26 00:00:00.000 at Svalbard Weather Station you can observe 2 over the observing night. The observing night at Svalbard Weather Station is 13.143133055555555 h hours long. The target with the longest time for the observation is Capella with a total of 2.920696234567901 h hours of observing\n"
     ]
    }
   ],
   "source": [
    "numberObsSval = len(observingTableSval[observingTableSval['ever observable'] == True])\n",
    "print(f'On {myDate} at {Svalbard.name} you can observe {numberObsSval} over the observing night. The observing night at {Svalbard.name} is {svalTotal} hours long. The target with the longest time for the observation is {longestObsSval} with a total of {longestSvalTime} hours of observing')"
   ]
  },
  {
   "cell_type": "markdown",
   "metadata": {},
   "source": [
    "### Location 2"
   ]
  },
  {
   "cell_type": "code",
   "execution_count": 32,
   "metadata": {},
   "outputs": [
    {
     "name": "stdout",
     "output_type": "stream",
     "text": [
      "On 2022-11-26 00:00:00.000 at Ranui Coastwatch Station you can observe 2 over the observing night. The observing night at Ranui Coastwatch Station is 1.2335905555555575 h long. The target with the longest time for the observation is Canopus with a total of 1.2335905555555575 h of observing\n"
     ]
    }
   ],
   "source": [
    "numberObsRanui = len(observingTableRanui[observingTableRanui['ever observable'] == True])\n",
    "print(f'On {myDate} at {Ranui.name} you can observe {numberObsRanui} over the observing night. The observing night at {Ranui.name} is {ranuiTotal} long. The target with the longest time for the observation is {longestObsRanui} with a total of {longestRanuiTime} of observing')"
   ]
  },
  {
   "cell_type": "markdown",
   "metadata": {},
   "source": [
    "### Location 3"
   ]
  },
  {
   "cell_type": "code",
   "execution_count": 33,
   "metadata": {},
   "outputs": [
    {
     "name": "stdout",
     "output_type": "stream",
     "text": [
      "On 2022-11-26 00:00:00.000 at Wideawake Airfield you can observe 8 over the observing night. The observing night at Wideawake Airfield is 8.962920555555556 h long. The target with the longest time for the observation is Rigel with a total of 3.98352024691358 h of observing\n"
     ]
    }
   ],
   "source": [
    "numberObsWide = len(observingTableWide[observingTableWide['ever observable'] == True])\n",
    "print(f'On {myDate} at {Wideawake.name} you can observe {numberObsWide} over the observing night. The observing night at {Wideawake.name} is {wideTotal} long. The target with the longest time for the observation is {longestObsWide} with a total of {longestWideTime} of observing')"
   ]
  },
  {
   "cell_type": "markdown",
   "metadata": {},
   "source": [
    "### Due Wed Nov 16 - 1 pm\n",
    "\n",
    "- `File -> Download as -> HTML (.html)`\n",
    "- `upload your .html file to the class Canvas page`"
   ]
  }
 ],
 "metadata": {
  "anaconda-cloud": {},
  "kernelspec": {
   "display_name": "Python 3 (ipykernel)",
   "language": "python",
   "name": "python3"
  },
  "language_info": {
   "codemirror_mode": {
    "name": "ipython",
    "version": 3
   },
   "file_extension": ".py",
   "mimetype": "text/x-python",
   "name": "python",
   "nbconvert_exporter": "python",
   "pygments_lexer": "ipython3",
   "version": "3.9.7"
  }
 },
 "nbformat": 4,
 "nbformat_minor": 4
}
