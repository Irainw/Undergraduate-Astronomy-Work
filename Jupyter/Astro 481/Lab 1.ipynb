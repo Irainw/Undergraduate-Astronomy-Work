{
 "cells": [
  {
   "cell_type": "code",
   "execution_count": 1,
   "id": "05e97665-60d1-4056-bca3-a8c5e805bdd3",
   "metadata": {},
   "outputs": [],
   "source": [
    "from astropy.io import fits\n",
    "import numpy as np\n",
    "import matplotlib.pyplot as plt\n",
    "# glob serves some of the same functions as ls in the terminal\n",
    "import glob\n",
    "from astropy.nddata import CCDData\n",
    "import ccdproc as ccdp\n",
    "\n",
    "from astropy import units as u\n",
    "from astropy.table import Table\n",
    "\n",
    "from pathlib import Path\n",
    "import os\n",
    "\n",
    "from astropy.nddata import CCDData\n",
    "from astropy.stats import mad_std\n",
    "\n",
    "\n",
    "import warnings\n",
    "warnings.filterwarnings(\"ignore\")"
   ]
  },
  {
   "cell_type": "code",
   "execution_count": 2,
   "id": "e9427915-a4a5-4944-85d1-53e4962a5214",
   "metadata": {},
   "outputs": [
    {
     "ename": "NameError",
     "evalue": "name 'ecam73' is not defined",
     "output_type": "error",
     "traceback": [
      "\u001b[1;31m---------------------------------------------------------------------------\u001b[0m",
      "\u001b[1;31mNameError\u001b[0m                                 Traceback (most recent call last)",
      "\u001b[1;32m~\\AppData\\Local\\Temp\\ipykernel_18436\\2953851508.py\u001b[0m in \u001b[0;36m<module>\u001b[1;34m\u001b[0m\n\u001b[1;32m----> 1\u001b[1;33m \u001b[0mecam73\u001b[0m\u001b[1;33m.\u001b[0m\u001b[0mclose\u001b[0m\u001b[1;33m(\u001b[0m\u001b[1;33m)\u001b[0m\u001b[1;33m\u001b[0m\u001b[1;33m\u001b[0m\u001b[0m\n\u001b[0m",
      "\u001b[1;31mNameError\u001b[0m: name 'ecam73' is not defined"
     ]
    }
   ],
   "source": [
    "ecam73.close()"
   ]
  },
  {
   "cell_type": "code",
   "execution_count": 6,
   "id": "f9d12bc4-5d32-4ace-909f-a53b417eea04",
   "metadata": {},
   "outputs": [],
   "source": [
    "ecam73 = fits.open('./PQ Cam/Copy/ecam-0073.fits')\n",
    "hdr = ecam73[0].header\n",
    "hdr['XTENSION']= 'IMAGE'\n",
    "ecam73.writeto('./PQ Cam/Copy/PQCamImage.fits')\n",
    "ecam73.close()"
   ]
  },
  {
   "cell_type": "markdown",
   "id": "7c6c8987-471f-460d-8f0c-722234bb0063",
   "metadata": {
    "jp-MarkdownHeadingCollapsed": true,
    "tags": []
   },
   "source": [
    "# Convenience Function"
   ]
  },
  {
   "cell_type": "code",
   "execution_count": 3,
   "id": "d9f9401a-f149-4980-b5eb-6fa8ad114a33",
   "metadata": {},
   "outputs": [],
   "source": [
    "from astropy import visualization as aviz\n",
    "from astropy.nddata.blocks import block_reduce\n",
    "from astropy.nddata.utils import Cutout2D\n",
    "from matplotlib import pyplot as plt\n",
    "\n",
    "\n",
    "def show_image(image,\n",
    "               percl=99, percu=None, is_mask=False,\n",
    "               figsize=(10, 10),\n",
    "               cmap='viridis', log=False, clip=True,\n",
    "               show_colorbar=True, show_ticks=True,\n",
    "               fig=None, ax=None, input_ratio=None):\n",
    "    \"\"\"\n",
    "    Show an image in matplotlib with some basic astronomically-appropriat stretching.\n",
    "    Parameters\n",
    "    ----------\n",
    "    image\n",
    "        The image to show\n",
    "    percl : number\n",
    "        The percentile for the lower edge of the stretch (or both edges if ``percu`` is None)\n",
    "    percu : number or None\n",
    "        The percentile for the upper edge of the stretch (or None to use ``percl`` for both)\n",
    "    figsize : 2-tuple\n",
    "        The size of the matplotlib figure in inches\n",
    "    \"\"\"\n",
    "    if percu is None:\n",
    "        percu = percl\n",
    "        percl = 100 - percl\n",
    "\n",
    "    if (fig is None and ax is not None) or (fig is not None and ax is None):\n",
    "        raise ValueError('Must provide both \"fig\" and \"ax\" '\n",
    "                         'if you provide one of them')\n",
    "    elif fig is None and ax is None:\n",
    "        if figsize is not None:\n",
    "            # Rescale the fig size to match the image dimensions, roughly\n",
    "            image_aspect_ratio = image.shape[0] / image.shape[1]\n",
    "            figsize = (max(figsize) * image_aspect_ratio, max(figsize))\n",
    "\n",
    "        fig, ax = plt.subplots(1, 1, figsize=figsize)\n",
    "\n",
    "\n",
    "    # To preserve details we should *really* downsample correctly and\n",
    "    # not rely on matplotlib to do it correctly for us (it won't).\n",
    "\n",
    "    # So, calculate the size of the figure in pixels, block_reduce to\n",
    "    # roughly that,and display the block reduced image.\n",
    "\n",
    "    # Thanks, https://stackoverflow.com/questions/29702424/how-to-get-matplotlib-figure-size\n",
    "    fig_size_pix = fig.get_size_inches() * fig.dpi\n",
    "\n",
    "    ratio = (image.shape // fig_size_pix).max()\n",
    "\n",
    "    if ratio < 1:\n",
    "        ratio = 1\n",
    "\n",
    "    ratio = input_ratio or ratio\n",
    "\n",
    "    reduced_data = block_reduce(image, ratio)\n",
    "\n",
    "    if not is_mask:\n",
    "        # Divide by the square of the ratio to keep the flux the same in the\n",
    "        # reduced image. We do *not* want to do this for images which are\n",
    "        # masks, since their values should be zero or one.\n",
    "         reduced_data = reduced_data / ratio**2\n",
    "\n",
    "    # Of course, now that we have downsampled, the axis limits are changed to\n",
    "    # match the smaller image size. Setting the extent will do the trick to\n",
    "    # change the axis display back to showing the actual extent of the image.\n",
    "    extent = [0, image.shape[1], 0, image.shape[0]]\n",
    "\n",
    "    if log:\n",
    "        stretch = aviz.LogStretch()\n",
    "    else:\n",
    "        stretch = aviz.LinearStretch()\n",
    "\n",
    "    norm = aviz.ImageNormalize(reduced_data,\n",
    "                               interval=aviz.AsymmetricPercentileInterval(percl, percu),\n",
    "                               stretch=stretch, clip=clip)\n",
    "\n",
    "    if is_mask:\n",
    "        # The image is a mask in which pixels should be zero or one.\n",
    "        # block_reduce may have changed some of the values, so reset here.\n",
    "        reduced_data = reduced_data > 0\n",
    "        # Set the image scale limits appropriately.\n",
    "        scale_args = dict(vmin=0, vmax=1)\n",
    "    else:\n",
    "        scale_args = dict(norm=norm)\n",
    "\n",
    "    im = ax.imshow(reduced_data, origin='lower',\n",
    "                   cmap=cmap, extent=extent, aspect='equal', **scale_args)\n",
    "\n",
    "    if show_colorbar:\n",
    "        # I haven't a clue why the fraction and pad arguments below work to make\n",
    "        # the colorbar the same height as the image, but they do....unless the image\n",
    "        # is wider than it is tall. Sticking with this for now anyway...\n",
    "        # Thanks: https://stackoverflow.com/a/26720422/3486425\n",
    "        fig.colorbar(im, ax=ax, fraction=0.046, pad=0.04)\n",
    "        # In case someone in the future wants to improve this:\n",
    "        # https://joseph-long.com/writing/colorbars/\n",
    "        # https://stackoverflow.com/a/33505522/3486425\n",
    "        # https://matplotlib.org/mpl_toolkits/axes_grid/users/overview.html#colorbar-whose-height-or-width-in-sync-with-the-master-axes\n",
    "\n",
    "    if not show_ticks:\n",
    "        ax.tick_params(labelbottom=False, labelleft=False, labelright=False, labeltop=False)\n",
    "\n",
    "\n",
    "def image_snippet(image, center, width=50, axis=None, fig=None,\n",
    "                  is_mask=False, pad_black=False, **kwargs):\n",
    "    \"\"\"\n",
    "    Display a subsection of an image about a center.\n",
    "    Parameters\n",
    "    ----------\n",
    "    image : numpy array\n",
    "        The full image from which a section is to be taken.\n",
    "    center : list-like\n",
    "        The location of the center of the cutout.\n",
    "    width : int, optional\n",
    "        Width of the cutout, in pixels.\n",
    "    axis : matplotlib.Axes instance, optional\n",
    "        Axis on which the image should be displayed.\n",
    "    fig : matplotlib.Figure, optional\n",
    "        Figure on which the image should be displayed.\n",
    "    is_mask : bool, optional\n",
    "        Set to ``True`` if the image is a mask, i.e. all values are\n",
    "        either zero or one.\n",
    "    pad_black : bool, optional\n",
    "        If ``True``, pad edges of the image with zeros to fill out width\n",
    "        if the slice is near the edge.\n",
    "    \"\"\"\n",
    "    if pad_black:\n",
    "        sub_image = Cutout2D(image, center, width, mode='partial', fill_value=0)\n",
    "    else:\n",
    "        # Return a smaller subimage if extent goes out side image\n",
    "        sub_image = Cutout2D(image, center, width, mode='trim')\n",
    "    show_image(sub_image.data, cmap='gray', ax=axis, fig=fig,\n",
    "               show_colorbar=False, show_ticks=False, is_mask=is_mask,\n",
    "               **kwargs)\n",
    "\n",
    "\n",
    "def _mid(sl):\n",
    "    return (sl.start + sl.stop) // 2\n",
    "\n",
    "\n",
    "def display_cosmic_rays(cosmic_rays, images, titles=None,\n",
    "                        only_display_rays=None):\n",
    "    \"\"\"\n",
    "    Display cutouts of the region around each cosmic ray and the other images\n",
    "    passed in.\n",
    "    Parameters\n",
    "    ----------\n",
    "    cosmic_rays : photutils.segmentation.SegmentationImage\n",
    "        The segmented cosmic ray image returned by ``photuils.detect_source``.\n",
    "    images : list of images\n",
    "        The list of images to be displayed. Each image becomes a column in\n",
    "        the generated plot. The first image must be the cosmic ray mask.\n",
    "    titles : list of str\n",
    "        Titles to be put above the first row of images.\n",
    "    only_display_rays : list of int, optional\n",
    "        The number of the cosmic ray(s) to display. The default value,\n",
    "        ``None``, means display them all. The number of the cosmic ray is\n",
    "        its index in ``cosmic_rays``, which is also the number displayed\n",
    "        on the mask.\n",
    "    \"\"\"\n",
    "    # Check whether the first image is actually a mask.\n",
    "\n",
    "    if not ((images[0] == 0) | (images[0] == 1)).all():\n",
    "        raise ValueError('The first image must be a mask with '\n",
    "                         'values of zero or one')\n",
    "\n",
    "    if only_display_rays is None:\n",
    "        n_rows = len(cosmic_rays.slices)\n",
    "    else:\n",
    "        n_rows = len(only_display_rays)\n",
    "\n",
    "    n_columns = len(images)\n",
    "\n",
    "    width = 12\n",
    "\n",
    "    # The height below is *CRITICAL*. If the aspect ratio of the figure as\n",
    "    # a whole does not allow for square plots then one ends up with a bunch\n",
    "    # of whitespace. The plots here are square by design.\n",
    "    height = width / n_columns * n_rows\n",
    "    fig, axes = plt.subplots(n_rows, n_columns, sharex=False, sharey='row',\n",
    "                             figsize=(width, height))\n",
    "\n",
    "    # Generate empty titles if none were provided.\n",
    "    if titles is None:\n",
    "        titles = [''] * n_columns\n",
    "\n",
    "    display_row = 0\n",
    "\n",
    "    for row, s in enumerate(cosmic_rays.slices):\n",
    "        if only_display_rays is not None:\n",
    "            if row not in only_display_rays:\n",
    "                # We are not supposed to display this one, so skip it.\n",
    "                continue\n",
    "\n",
    "        x = _mid(s[1])\n",
    "        y = _mid(s[0])\n",
    "\n",
    "        for column, plot_info in enumerate(zip(images, titles)):\n",
    "            image = plot_info[0]\n",
    "            title = plot_info[1]\n",
    "            is_mask = column == 0\n",
    "            ax = axes[display_row, column]\n",
    "            image_snippet(image, (x, y), width=80, axis=ax, fig=fig,\n",
    "                          is_mask=is_mask)\n",
    "            if is_mask:\n",
    "                ax.annotate('Cosmic ray {}'.format(row), (0.1, 0.9),\n",
    "                            xycoords='axes fraction',\n",
    "                            color='cyan', fontsize=20)\n",
    "\n",
    "            if display_row == 0:\n",
    "                # Only set the title if it isn't empty.\n",
    "                if title:\n",
    "                    ax.set_title(title)\n",
    "\n",
    "        display_row = display_row + 1\n",
    "\n",
    "    # This choice results in the images close to each other but with\n",
    "    # a small gap.\n",
    "    plt.subplots_adjust(wspace=0.1, hspace=0.05)"
   ]
  },
  {
   "cell_type": "markdown",
   "id": "0c35dd54-6662-4f37-beeb-290a7c73a17b",
   "metadata": {},
   "source": [
    "# Combining Calibration Images 07/08"
   ]
  },
  {
   "cell_type": "code",
   "execution_count": 31,
   "id": "94dba32f-5568-413a-8e20-9695cd6fda48",
   "metadata": {},
   "outputs": [],
   "source": [
    "calibrationPath = Path('./0708Calibration')"
   ]
  },
  {
   "cell_type": "markdown",
   "id": "ceb36690-8961-4fb1-878a-118c340b1b74",
   "metadata": {},
   "source": [
    "## Biases"
   ]
  },
  {
   "cell_type": "code",
   "execution_count": 4,
   "id": "d8b2ea2c-e980-4116-be87-28bd4f32e77b",
   "metadata": {},
   "outputs": [],
   "source": [
    "biasPath = Path('./Biases/UNITS')\n",
    "biases = ccdp.ImageFileCollection(biasPath)"
   ]
  },
  {
   "cell_type": "code",
   "execution_count": 5,
   "id": "e0c576e3-5a3f-4743-8216-922f2c93cd5f",
   "metadata": {},
   "outputs": [
    {
     "name": "stderr",
     "output_type": "stream",
     "text": [
      "INFO:astropy:splitting each image into 2 chunks to limit memory usage to 350000000.0 bytes.\n"
     ]
    },
    {
     "name": "stdout",
     "output_type": "stream",
     "text": [
      "INFO: splitting each image into 2 chunks to limit memory usage to 350000000.0 bytes. [ccdproc.combiner]\n"
     ]
    }
   ],
   "source": [
    "calibratedBiases = biases.files_filtered(include_path=True)\n",
    "\n",
    "combinedBiases = ccdp.combine(calibratedBiases,\n",
    "                             method='median',\n",
    "                             sigma_clip=True, sigma_clip_low_thresh=5, sigma_clip_high_thresh=5,\n",
    "                             sigma_clip_func=np.ma.median, signma_clip_dev_func=mad_std,\n",
    "                             mem_limit=350e6\n",
    "                            )\n",
    "\n",
    "combinedBiases.meta['combined'] = True"
   ]
  },
  {
   "cell_type": "markdown",
   "id": "d136a89c-6db9-4825-b2cd-45c9b7194c03",
   "metadata": {},
   "source": [
    "## Flats"
   ]
  },
  {
   "cell_type": "code",
   "execution_count": 47,
   "id": "c3a9406c-77ae-477d-9f89-d5a4699ae983",
   "metadata": {},
   "outputs": [
    {
     "data": {
      "text/html": [
       "<div><i>Table masked=True length=11</i>\n",
       "<table id=\"table2474777445904\" class=\"table-striped table-bordered table-condensed\">\n",
       "<thead><tr><th>file</th><th>simple</th><th>bitpix</th><th>naxis</th><th>naxis1</th><th>naxis2</th><th>extend</th><th>date-obs</th><th>exp_time</th><th>exp_type</th><th>img_type</th><th>filter</th><th>temp</th><th>bunit</th><th>comment</th></tr></thead>\n",
       "<thead><tr><th>str14</th><th>bool</th><th>int32</th><th>int32</th><th>int32</th><th>int32</th><th>bool</th><th>str23</th><th>float64</th><th>str6</th><th>str4</th><th>str1</th><th>str6</th><th>str3</th><th>str15</th></tr></thead>\n",
       "<tr><td>ecam-0102.fits</td><td>True</td><td>64</td><td>2</td><td>1024</td><td>1024</td><td>True</td><td>2023-07-08T08:32:08.471</td><td>60.0</td><td>Single</td><td>Flat</td><td>B</td><td>-81.19</td><td>adu</td><td>Dome flat 60s B</td></tr>\n",
       "<tr><td>ecam-0103.fits</td><td>True</td><td>64</td><td>2</td><td>1024</td><td>1024</td><td>True</td><td>2023-07-08T08:34:16.710</td><td>10.0</td><td>Single</td><td>Flat</td><td>B</td><td>-81.19</td><td>adu</td><td>Dome flat 10s B</td></tr>\n",
       "<tr><td>ecam-0104.fits</td><td>True</td><td>64</td><td>2</td><td>1024</td><td>1024</td><td>True</td><td>2023-07-08T08:36:15.195</td><td>10.0</td><td>Single</td><td>Flat</td><td>B</td><td>-81.19</td><td>adu</td><td>Dome flat 10s B</td></tr>\n",
       "<tr><td>ecam-0105.fits</td><td>True</td><td>64</td><td>2</td><td>1024</td><td>1024</td><td>True</td><td>2023-07-08T08:36:26.949</td><td>10.0</td><td>Single</td><td>Flat</td><td>B</td><td>-81.19</td><td>adu</td><td>Dome flat 10s B</td></tr>\n",
       "<tr><td>ecam-0106.fits</td><td>True</td><td>64</td><td>2</td><td>1024</td><td>1024</td><td>True</td><td>2023-07-08T08:36:59.207</td><td>10.0</td><td>Single</td><td>Flat</td><td>V</td><td>-81.19</td><td>adu</td><td>Dome flat 10s V</td></tr>\n",
       "<tr><td>ecam-0107.fits</td><td>True</td><td>64</td><td>2</td><td>1024</td><td>1024</td><td>True</td><td>2023-07-08T08:37:11.003</td><td>10.0</td><td>Single</td><td>Flat</td><td>V</td><td>-81.19</td><td>adu</td><td>Dome flat 10s V</td></tr>\n",
       "<tr><td>ecam-0108.fits</td><td>True</td><td>64</td><td>2</td><td>1024</td><td>1024</td><td>True</td><td>2023-07-08T08:37:22.882</td><td>10.0</td><td>Single</td><td>Flat</td><td>V</td><td>-81.19</td><td>adu</td><td>Dome flat 10s V</td></tr>\n",
       "<tr><td>ecam-0109.fits</td><td>True</td><td>64</td><td>2</td><td>1024</td><td>1024</td><td>True</td><td>2023-07-08T08:37:56.434</td><td>5.0</td><td>Single</td><td>Flat</td><td>V</td><td>-81.19</td><td>adu</td><td>Dome flat 10s V</td></tr>\n",
       "<tr><td>ecam-0110.fits</td><td>True</td><td>64</td><td>2</td><td>1024</td><td>1024</td><td>True</td><td>2023-07-08T08:38:24.264</td><td>2.0</td><td>Single</td><td>Flat</td><td>V</td><td>-81.19</td><td>adu</td><td>Dome flat 2s V</td></tr>\n",
       "<tr><td>ecam-0111.fits</td><td>True</td><td>64</td><td>2</td><td>1024</td><td>1024</td><td>True</td><td>2023-07-08T08:38:53.022</td><td>2.0</td><td>Single</td><td>Flat</td><td>V</td><td>-81.19</td><td>adu</td><td>Dome flat 2s V</td></tr>\n",
       "<tr><td>ecam-0112.fits</td><td>True</td><td>64</td><td>2</td><td>1024</td><td>1024</td><td>True</td><td>2023-07-08T08:38:56.822</td><td>2.0</td><td>Single</td><td>Flat</td><td>V</td><td>-81.19</td><td>adu</td><td>Dome flat 2s V</td></tr>\n",
       "</table></div>"
      ],
      "text/plain": [
       "<Table masked=True length=11>\n",
       "     file      simple bitpix naxis ... filter  temp  bunit     comment    \n",
       "    str14       bool  int32  int32 ...  str1   str6   str3      str15     \n",
       "-------------- ------ ------ ----- ... ------ ------ ----- ---------------\n",
       "ecam-0102.fits   True     64     2 ...      B -81.19   adu Dome flat 60s B\n",
       "ecam-0103.fits   True     64     2 ...      B -81.19   adu Dome flat 10s B\n",
       "ecam-0104.fits   True     64     2 ...      B -81.19   adu Dome flat 10s B\n",
       "ecam-0105.fits   True     64     2 ...      B -81.19   adu Dome flat 10s B\n",
       "ecam-0106.fits   True     64     2 ...      V -81.19   adu Dome flat 10s V\n",
       "ecam-0107.fits   True     64     2 ...      V -81.19   adu Dome flat 10s V\n",
       "ecam-0108.fits   True     64     2 ...      V -81.19   adu Dome flat 10s V\n",
       "ecam-0109.fits   True     64     2 ...      V -81.19   adu Dome flat 10s V\n",
       "ecam-0110.fits   True     64     2 ...      V -81.19   adu  Dome flat 2s V\n",
       "ecam-0111.fits   True     64     2 ...      V -81.19   adu  Dome flat 2s V\n",
       "ecam-0112.fits   True     64     2 ...      V -81.19   adu  Dome flat 2s V"
      ]
     },
     "execution_count": 47,
     "metadata": {},
     "output_type": "execute_result"
    }
   ],
   "source": [
    "flatPath = Path('0708DomeFlats/UNITS')\n",
    "flats = ccdp.ImageFileCollection(flatPath)\n",
    "flats.summary"
   ]
  },
  {
   "cell_type": "code",
   "execution_count": 48,
   "id": "8c5bd524-d65f-4e8e-b40f-d87768fcaa49",
   "metadata": {},
   "outputs": [
    {
     "data": {
      "text/plain": [
       "{'B', 'V'}"
      ]
     },
     "execution_count": 48,
     "metadata": {},
     "output_type": "execute_result"
    }
   ],
   "source": [
    "flat_filters = set(h['filter'] for h in flats.headers())\n",
    "flat_filters"
   ]
  },
  {
   "cell_type": "code",
   "execution_count": 50,
   "id": "0f6da712-66fe-48fb-9de2-287cf1be91a8",
   "metadata": {},
   "outputs": [
    {
     "name": "stdout",
     "output_type": "stream",
     "text": [
      "[]\n",
      "[]\n"
     ]
    }
   ],
   "source": [
    "\n",
    "for filt in flat_filters:\n",
    "    aFlat = flats.files_filtered(filter=filt, includePath = True)\n",
    "    print(aFlat)\n",
    "    # combinedFlats = ccdp.combine(aFlat,\n",
    "    #                              method = 'median',\n",
    "    #                              sigma_clip = True, sigma_clip_low_thresh = 5, sigma_clip_high_thresh = 5,\n",
    "    #                              sigma_clip_func = np.ma.median, signma_clip_dev_func = mad_std,\n",
    "    #                              mem_limit = 350e6\n",
    "    #                             )\n",
    "    #combinedFlats.meta['combined'] = True\n",
    "    #combinedFitName = 'combinedFlatImageFilter{}.fit'.format(filt.replace(\"''\",\"p\"))\n",
    "    #combinedFlats.write(calibrationPath / combinedFitName)\n",
    "    \n",
    "    \n",
    "\n",
    "#combinedFlats = ccdp.combine(calibratedFlats,\n",
    "#                             method='median',\n",
    "#                             sigma_clip=True, sigma_clip_low_thresh=5, sigma_clip_high_thresh=5,\n",
    "#                             sigma_clip_func=np.ma.median, signma_clip_dev_func=mad_std,\n",
    "#                             mem_limit=350e6\n",
    "#                            )\n",
    "#\n",
    "#combinedFlats.meta['combined'] = True\n"
   ]
  },
  {
   "cell_type": "code",
   "execution_count": 28,
   "id": "028d6731-25b9-45ab-83ca-606ecbbb05aa",
   "metadata": {},
   "outputs": [
    {
     "ename": "IndexError",
     "evalue": "list index out of range",
     "output_type": "error",
     "traceback": [
      "\u001b[1;31m---------------------------------------------------------------------------\u001b[0m",
      "\u001b[1;31mIndexError\u001b[0m                                Traceback (most recent call last)",
      "\u001b[1;32m~\\AppData\\Local\\Temp\\ipykernel_8400\\4012191630.py\u001b[0m in \u001b[0;36m<module>\u001b[1;34m\u001b[0m\n\u001b[0;32m      1\u001b[0m \u001b[1;32mfor\u001b[0m \u001b[0mfilt\u001b[0m \u001b[1;32min\u001b[0m \u001b[0mflat_filters\u001b[0m\u001b[1;33m:\u001b[0m\u001b[1;33m\u001b[0m\u001b[1;33m\u001b[0m\u001b[0m\n\u001b[0;32m      2\u001b[0m     \u001b[0mto_combine\u001b[0m \u001b[1;33m=\u001b[0m \u001b[0mflats\u001b[0m\u001b[1;33m.\u001b[0m\u001b[0mfiles_filtered\u001b[0m\u001b[1;33m(\u001b[0m\u001b[0mimagetyp\u001b[0m\u001b[1;33m=\u001b[0m\u001b[0mflat_imagetyp\u001b[0m\u001b[1;33m,\u001b[0m \u001b[0mfilter\u001b[0m\u001b[1;33m=\u001b[0m\u001b[0mfilt\u001b[0m\u001b[1;33m,\u001b[0m \u001b[0minclude_path\u001b[0m\u001b[1;33m=\u001b[0m\u001b[1;32mTrue\u001b[0m\u001b[1;33m)\u001b[0m\u001b[1;33m\u001b[0m\u001b[1;33m\u001b[0m\u001b[0m\n\u001b[1;32m----> 3\u001b[1;33m     combined_flat = ccdp.combine(to_combine,\n\u001b[0m\u001b[0;32m      4\u001b[0m                                  \u001b[0mmethod\u001b[0m\u001b[1;33m=\u001b[0m\u001b[1;34m'average'\u001b[0m\u001b[1;33m,\u001b[0m \u001b[1;31m#scale=inv_median,\u001b[0m\u001b[1;33m\u001b[0m\u001b[1;33m\u001b[0m\u001b[0m\n\u001b[0;32m      5\u001b[0m                                  \u001b[0msigma_clip\u001b[0m\u001b[1;33m=\u001b[0m\u001b[1;32mTrue\u001b[0m\u001b[1;33m,\u001b[0m \u001b[0msigma_clip_low_thresh\u001b[0m\u001b[1;33m=\u001b[0m\u001b[1;36m5\u001b[0m\u001b[1;33m,\u001b[0m \u001b[0msigma_clip_high_thresh\u001b[0m\u001b[1;33m=\u001b[0m\u001b[1;36m5\u001b[0m\u001b[1;33m,\u001b[0m\u001b[1;33m\u001b[0m\u001b[1;33m\u001b[0m\u001b[0m\n",
      "\u001b[1;32m~\\AppData\\Roaming\\Python\\Python39\\site-packages\\ccdproc\\combiner.py\u001b[0m in \u001b[0;36mcombine\u001b[1;34m(img_list, output_file, method, weights, scale, mem_limit, clip_extrema, nlow, nhigh, minmax_clip, minmax_clip_min, minmax_clip_max, sigma_clip, sigma_clip_low_thresh, sigma_clip_high_thresh, sigma_clip_func, sigma_clip_dev_func, dtype, combine_uncertainty_function, overwrite_output, **ccdkwargs)\u001b[0m\n\u001b[0;32m    840\u001b[0m \u001b[1;33m\u001b[0m\u001b[0m\n\u001b[0;32m    841\u001b[0m     \u001b[1;31m# First we create a CCDObject from first image for storing output\u001b[0m\u001b[1;33m\u001b[0m\u001b[1;33m\u001b[0m\u001b[0m\n\u001b[1;32m--> 842\u001b[1;33m     \u001b[1;32mif\u001b[0m \u001b[0misinstance\u001b[0m\u001b[1;33m(\u001b[0m\u001b[0mimg_list\u001b[0m\u001b[1;33m[\u001b[0m\u001b[1;36m0\u001b[0m\u001b[1;33m]\u001b[0m\u001b[1;33m,\u001b[0m \u001b[0mCCDData\u001b[0m\u001b[1;33m)\u001b[0m\u001b[1;33m:\u001b[0m\u001b[1;33m\u001b[0m\u001b[1;33m\u001b[0m\u001b[0m\n\u001b[0m\u001b[0;32m    843\u001b[0m         \u001b[0mccd\u001b[0m \u001b[1;33m=\u001b[0m \u001b[0mimg_list\u001b[0m\u001b[1;33m[\u001b[0m\u001b[1;36m0\u001b[0m\u001b[1;33m]\u001b[0m\u001b[1;33m.\u001b[0m\u001b[0mcopy\u001b[0m\u001b[1;33m(\u001b[0m\u001b[1;33m)\u001b[0m\u001b[1;33m\u001b[0m\u001b[1;33m\u001b[0m\u001b[0m\n\u001b[0;32m    844\u001b[0m     \u001b[1;32melse\u001b[0m\u001b[1;33m:\u001b[0m\u001b[1;33m\u001b[0m\u001b[1;33m\u001b[0m\u001b[0m\n",
      "\u001b[1;31mIndexError\u001b[0m: list index out of range"
     ]
    }
   ],
   "source": [
    "for filt in flat_filters:\n",
    "    to_combine = flats.files_filtered(imagetyp=flat_imagetyp, filter=filt, include_path=True)\n",
    "    combined_flat = ccdp.combine(to_combine,\n",
    "                                 method='average', #scale=inv_median,\n",
    "                                 sigma_clip=True, sigma_clip_low_thresh=5, sigma_clip_high_thresh=5,\n",
    "                                 sigma_clip_func=np.ma.median, signma_clip_dev_func=mad_std,\n",
    "                                 mem_limit=350e6\n",
    "                                )\n",
    "\n",
    "    combined_flat.meta['combined'] = True\n",
    "    dark_file_name = 'combined_flat_filter_{}.fit'.format(filt.replace(\"''\", \"p\"))\n",
    "    #combined_flat.write(calibrated_path / dark_file_name)"
   ]
  },
  {
   "cell_type": "code",
   "execution_count": null,
   "id": "0f0d2e38-657c-4132-93d3-0b0cc3c0cb86",
   "metadata": {},
   "outputs": [],
   "source": []
  }
 ],
 "metadata": {
  "kernelspec": {
   "display_name": "Python 3 (ipykernel)",
   "language": "python",
   "name": "python3"
  },
  "language_info": {
   "codemirror_mode": {
    "name": "ipython",
    "version": 3
   },
   "file_extension": ".py",
   "mimetype": "text/x-python",
   "name": "python",
   "nbconvert_exporter": "python",
   "pygments_lexer": "ipython3",
   "version": "3.9.13"
  }
 },
 "nbformat": 4,
 "nbformat_minor": 5
}
